{
  "nbformat": 4,
  "nbformat_minor": 0,
  "metadata": {
    "colab": {
      "name": " cohort_customers_model.ipynb",
      "provenance": [],
      "toc_visible": true,
      "authorship_tag": "ABX9TyN3eSmz1jW8gfLhrjT+86yF",
      "include_colab_link": true
    },
    "kernelspec": {
      "name": "python3",
      "display_name": "Python 3"
    },
    "language_info": {
      "name": "python"
    }
  },
  "cells": [
    {
      "cell_type": "markdown",
      "metadata": {
        "id": "view-in-github",
        "colab_type": "text"
      },
      "source": [
        "<a href=\"https://colab.research.google.com/github/dlskawns/cp1/blob/main/4_cohort_customers_model.ipynb\" target=\"_parent\"><img src=\"https://colab.research.google.com/assets/colab-badge.svg\" alt=\"Open In Colab\"/></a>"
      ]
    },
    {
      "cell_type": "markdown",
      "source": [
        "# 4. 문맥을 통한 고객 집단 분류 모델  \n"
      ],
      "metadata": {
        "id": "9lrjEh21-OD7"
      }
    },
    {
      "cell_type": "markdown",
      "source": [
        "## Transformer - Bert(bert-base-uncased)를 이용 \n",
        "반려동물용 상품을 판매하는 것이 파악되어 반려동물 유무(0 - 없음, 1 - 강아지, 2 - 고양이, 3 - 강아지와 고양이)로 고객 세분화 진행"
      ],
      "metadata": {
        "id": "fhvULUN8hIeh"
      }
    },
    {
      "cell_type": "markdown",
      "source": [
        "### * 선정 이유:  \n",
        "label(반려동물 유무 여부)을 설정한 뒤, 전체 문맥에 따른 특징적인 패턴을 찾아 전체 데이터셋에 자동으로 label을 지정하기 위함.  \n",
        "ㄴ> 이를 통해 궁극적으로 고객의 집단은 분류하는 feature를 생성.\n"
      ],
      "metadata": {
        "id": "GGVKFIPIgmDj"
      }
    },
    {
      "cell_type": "markdown",
      "source": [
        "### * 가설:  \n",
        "BERT를 이용해 문맥데이터와 label을 학습하면 문장들의 패턴을 파악해 반려동물 유무에 대한 고객 세분화가 가능할 것이다.\n"
      ],
      "metadata": {
        "id": "pubBJ8glgors"
      }
    },
    {
      "cell_type": "markdown",
      "source": [
        "### * 방법:  \n",
        "  * 리뷰 내에서 dog, cat을 파악할 수 있는 키워드를 통해 일차적으로 label 생성\n",
        "  * label 분포 파악 후 imbalanced 할 경우, under sampling 및 SMOTE 진행 후 성능 파악\n",
        "  * 샘플링 방법 선정 후(최종-under sampling) BERT 다중분류 모델 학습 진행 \n",
        "  * 학습 완료된 모델을 통해 자동 라벨링 진행\n",
        "\n",
        "  <br>\n",
        "\n",
        "  ---"
      ],
      "metadata": {
        "id": "8kTcPBOzgru8"
      }
    },
    {
      "cell_type": "markdown",
      "source": [
        "### 반려동물(dog, cat)을 키우는 고객 여부 파악. 1차 키워드 분류\n",
        "\n",
        "dog과 cat의 여부를 파악할 수 있는 words를 포함하고 있다면, 각각의 label을 부여한다.  \n",
        "(No: 0, dog: 1, cat: 2, both: 3)"
      ],
      "metadata": {
        "id": "p2rt9ibo7u82"
      }
    },
    {
      "cell_type": "code",
      "source": [
        "# Text에서 고객 파악\n",
        "def sorting_labels(df):\n",
        "  labels = []\n",
        "  for i in df['Text']:\n",
        "    i = i.lower()\n",
        "    if ('my dog' in i) and ('my cat' in i):\n",
        "      labels.append(3)\n",
        "    elif ('my dog' in i):\n",
        "      labels.append(1)\n",
        "    elif ('my cat' in i):\n",
        "      labels.append(2)\n",
        "    elif (('tasty' in i) or  ('taste good' in i) or ('yummy' in i)) and (('dog' not in i) or ('cat' not in i) or ('puppy' not in i)):\n",
        "      labels.append(0)\n",
        "    else:\n",
        "      labels.append(None)\n",
        "  df['labels'] = labels\n",
        "  return df"
      ],
      "metadata": {
        "id": "VC-5SHSwsD5i"
      },
      "execution_count": null,
      "outputs": []
    },
    {
      "cell_type": "code",
      "source": [
        "# summary에서 고객파악\n",
        "def sorting_hints(df):\n",
        "  labels = []\n",
        "  for i, k in zip(df['Summary'], range(len(df['labels']))):\n",
        "    i = i.lower()\n",
        "    if pd.isna(df['labels'][k])==True:\n",
        "      if ('dog' in i) and ('cat' in i):\n",
        "        df['labels'][k] = 3\n",
        "      elif ('dog' in i ):\n",
        "        df['labels'][k] = 1\n",
        "      elif ('cat' in i ):\n",
        "        df['labels'][k] = 2\n",
        "      elif (('tasty' in i ) or  ('taste good' in i ) or ('yummy' in i )) and (('dog' not in i ) or ('cat' not in i ) or ('puppy' not in i )):\n",
        "        df['labels'][k] = 0\n",
        "    else:\n",
        "      continue\n",
        "  return df"
      ],
      "metadata": {
        "id": "VlqCD_XOsD3P"
      },
      "execution_count": null,
      "outputs": []
    },
    {
      "cell_type": "code",
      "execution_count": null,
      "metadata": {
        "id": "fxGfch2_dVUq",
        "colab": {
          "base_uri": "https://localhost:8080/",
          "height": 1000
        },
        "outputId": "baf88eaa-5129-426d-b5c6-28353e16dde2"
      },
      "outputs": [
        {
          "output_type": "execute_result",
          "data": {
            "text/html": [
              "\n",
              "  <div id=\"df-685a80db-41fb-4692-ae8e-b0d4c8b3ede2\">\n",
              "    <div class=\"colab-df-container\">\n",
              "      <div>\n",
              "<style scoped>\n",
              "    .dataframe tbody tr th:only-of-type {\n",
              "        vertical-align: middle;\n",
              "    }\n",
              "\n",
              "    .dataframe tbody tr th {\n",
              "        vertical-align: top;\n",
              "    }\n",
              "\n",
              "    .dataframe thead th {\n",
              "        text-align: right;\n",
              "    }\n",
              "</style>\n",
              "<table border=\"1\" class=\"dataframe\">\n",
              "  <thead>\n",
              "    <tr style=\"text-align: right;\">\n",
              "      <th></th>\n",
              "      <th>Id</th>\n",
              "      <th>ProductId</th>\n",
              "      <th>UserId</th>\n",
              "      <th>ProfileName</th>\n",
              "      <th>HelpfulnessNumerator</th>\n",
              "      <th>HelpfulnessDenominator</th>\n",
              "      <th>Score</th>\n",
              "      <th>Time</th>\n",
              "      <th>Summary</th>\n",
              "      <th>Text</th>\n",
              "      <th>date</th>\n",
              "      <th>dayofweek</th>\n",
              "      <th>r_counts</th>\n",
              "      <th>keyword</th>\n",
              "      <th>labels</th>\n",
              "    </tr>\n",
              "  </thead>\n",
              "  <tbody>\n",
              "    <tr>\n",
              "      <th>0</th>\n",
              "      <td>1</td>\n",
              "      <td>B001E4KFG0</td>\n",
              "      <td>A3SGXH7AUHU8GW</td>\n",
              "      <td>delmartian</td>\n",
              "      <td>1</td>\n",
              "      <td>1</td>\n",
              "      <td>5</td>\n",
              "      <td>1303862400</td>\n",
              "      <td>Good Quality Dog Food</td>\n",
              "      <td>I have bought several of the Vitality canned d...</td>\n",
              "      <td>2011-04-27</td>\n",
              "      <td>Wednesday</td>\n",
              "      <td>1</td>\n",
              "      <td>['vitality', 'finicky', 'smells', 'labrador', ...</td>\n",
              "      <td>1.0</td>\n",
              "    </tr>\n",
              "    <tr>\n",
              "      <th>1</th>\n",
              "      <td>2</td>\n",
              "      <td>B00813GRG4</td>\n",
              "      <td>A1D87F6ZCVE5NK</td>\n",
              "      <td>dll pa</td>\n",
              "      <td>0</td>\n",
              "      <td>0</td>\n",
              "      <td>1</td>\n",
              "      <td>1346976000</td>\n",
              "      <td>Not as Advertised</td>\n",
              "      <td>Product arrived labeled as Jumbo Salted Peanut...</td>\n",
              "      <td>2012-09-07</td>\n",
              "      <td>Friday</td>\n",
              "      <td>1</td>\n",
              "      <td>['jumbo', 'unsalted', 'small', 'sized', 'vendo...</td>\n",
              "      <td>NaN</td>\n",
              "    </tr>\n",
              "    <tr>\n",
              "      <th>2</th>\n",
              "      <td>3</td>\n",
              "      <td>B000LQOCH0</td>\n",
              "      <td>ABXLMWJIXXAIN</td>\n",
              "      <td>Natalia Corres \"Natalia Corres\"</td>\n",
              "      <td>1</td>\n",
              "      <td>1</td>\n",
              "      <td>4</td>\n",
              "      <td>1219017600</td>\n",
              "      <td>\"Delight\" says it all</td>\n",
              "      <td>This is a confection that has been around a fe...</td>\n",
              "      <td>2008-08-18</td>\n",
              "      <td>Monday</td>\n",
              "      <td>3</td>\n",
              "      <td>['gelatin', 'pillowy', 'mouthful', 'coated', '...</td>\n",
              "      <td>0.0</td>\n",
              "    </tr>\n",
              "    <tr>\n",
              "      <th>3</th>\n",
              "      <td>4</td>\n",
              "      <td>B000UA0QIQ</td>\n",
              "      <td>A395BORC6FGVXV</td>\n",
              "      <td>Karl</td>\n",
              "      <td>3</td>\n",
              "      <td>3</td>\n",
              "      <td>2</td>\n",
              "      <td>1307923200</td>\n",
              "      <td>Cough Medicine</td>\n",
              "      <td>If you are looking for the secret ingredient i...</td>\n",
              "      <td>2011-06-13</td>\n",
              "      <td>Monday</td>\n",
              "      <td>3</td>\n",
              "      <td>['medicinal', 'robitussin', 'cherry', 'ingredi...</td>\n",
              "      <td>NaN</td>\n",
              "    </tr>\n",
              "    <tr>\n",
              "      <th>4</th>\n",
              "      <td>5</td>\n",
              "      <td>B006K2ZZ7K</td>\n",
              "      <td>A1UQRSCLF8GW1T</td>\n",
              "      <td>Michael D. Bigham \"M. Wassir\"</td>\n",
              "      <td>0</td>\n",
              "      <td>0</td>\n",
              "      <td>5</td>\n",
              "      <td>1350777600</td>\n",
              "      <td>Great taffy</td>\n",
              "      <td>Great taffy at a great price.  There was a wid...</td>\n",
              "      <td>2012-10-21</td>\n",
              "      <td>Sunday</td>\n",
              "      <td>2</td>\n",
              "      <td>['quick', 'wide', 'delivery', 'deal', 'lover']</td>\n",
              "      <td>0.0</td>\n",
              "    </tr>\n",
              "    <tr>\n",
              "      <th>...</th>\n",
              "      <td>...</td>\n",
              "      <td>...</td>\n",
              "      <td>...</td>\n",
              "      <td>...</td>\n",
              "      <td>...</td>\n",
              "      <td>...</td>\n",
              "      <td>...</td>\n",
              "      <td>...</td>\n",
              "      <td>...</td>\n",
              "      <td>...</td>\n",
              "      <td>...</td>\n",
              "      <td>...</td>\n",
              "      <td>...</td>\n",
              "      <td>...</td>\n",
              "      <td>...</td>\n",
              "    </tr>\n",
              "    <tr>\n",
              "      <th>568449</th>\n",
              "      <td>568450</td>\n",
              "      <td>B001EO7N10</td>\n",
              "      <td>A28KG5XORO54AY</td>\n",
              "      <td>Lettie D. Carter</td>\n",
              "      <td>0</td>\n",
              "      <td>0</td>\n",
              "      <td>5</td>\n",
              "      <td>1299628800</td>\n",
              "      <td>Will not do without</td>\n",
              "      <td>Great for sesame chicken..this is a good if no...</td>\n",
              "      <td>2011-03-09</td>\n",
              "      <td>Wednesday</td>\n",
              "      <td>1</td>\n",
              "      <td>['sesame', 'chicken', 'husband', 'recipes', 'r...</td>\n",
              "      <td>NaN</td>\n",
              "    </tr>\n",
              "    <tr>\n",
              "      <th>568450</th>\n",
              "      <td>568451</td>\n",
              "      <td>B003S1WTCU</td>\n",
              "      <td>A3I8AFVPEE8KI5</td>\n",
              "      <td>R. Sawyer</td>\n",
              "      <td>0</td>\n",
              "      <td>0</td>\n",
              "      <td>2</td>\n",
              "      <td>1331251200</td>\n",
              "      <td>disappointed</td>\n",
              "      <td>I'm disappointed with the flavor. The chocolat...</td>\n",
              "      <td>2012-03-09</td>\n",
              "      <td>Friday</td>\n",
              "      <td>9</td>\n",
              "      <td>['notes', 'small', 'thanks', 'weak', 'disappoi...</td>\n",
              "      <td>NaN</td>\n",
              "    </tr>\n",
              "    <tr>\n",
              "      <th>568451</th>\n",
              "      <td>568452</td>\n",
              "      <td>B004I613EE</td>\n",
              "      <td>A121AA1GQV751Z</td>\n",
              "      <td>pksd \"pk_007\"</td>\n",
              "      <td>2</td>\n",
              "      <td>2</td>\n",
              "      <td>5</td>\n",
              "      <td>1329782400</td>\n",
              "      <td>Perfect for our maltipoo</td>\n",
              "      <td>These stars are small, so you can give 10-15 o...</td>\n",
              "      <td>2012-02-21</td>\n",
              "      <td>Tuesday</td>\n",
              "      <td>1</td>\n",
              "      <td>['compare', 'train', 'smell', 'preservatives',...</td>\n",
              "      <td>NaN</td>\n",
              "    </tr>\n",
              "    <tr>\n",
              "      <th>568452</th>\n",
              "      <td>568453</td>\n",
              "      <td>B004I613EE</td>\n",
              "      <td>A3IBEVCTXKNOH</td>\n",
              "      <td>Kathy A. Welch \"katwel\"</td>\n",
              "      <td>1</td>\n",
              "      <td>1</td>\n",
              "      <td>5</td>\n",
              "      <td>1331596800</td>\n",
              "      <td>Favorite Training and reward treat</td>\n",
              "      <td>These are the BEST treats for training and rew...</td>\n",
              "      <td>2012-03-13</td>\n",
              "      <td>Tuesday</td>\n",
              "      <td>2</td>\n",
              "      <td>['rewarding', 'grooming', 'sweet', 'wet', 'tre...</td>\n",
              "      <td>NaN</td>\n",
              "    </tr>\n",
              "    <tr>\n",
              "      <th>568453</th>\n",
              "      <td>568454</td>\n",
              "      <td>B001LR2CU2</td>\n",
              "      <td>A3LGQPJCZVL9UC</td>\n",
              "      <td>srfell17</td>\n",
              "      <td>0</td>\n",
              "      <td>0</td>\n",
              "      <td>5</td>\n",
              "      <td>1338422400</td>\n",
              "      <td>Great Honey</td>\n",
              "      <td>I am very satisfied ,product is as advertised,...</td>\n",
              "      <td>2012-05-31</td>\n",
              "      <td>Thursday</td>\n",
              "      <td>1</td>\n",
              "      <td>['general', 'cereal', 'sweetner', 'vinegar']</td>\n",
              "      <td>NaN</td>\n",
              "    </tr>\n",
              "  </tbody>\n",
              "</table>\n",
              "<p>568454 rows × 15 columns</p>\n",
              "</div>\n",
              "      <button class=\"colab-df-convert\" onclick=\"convertToInteractive('df-685a80db-41fb-4692-ae8e-b0d4c8b3ede2')\"\n",
              "              title=\"Convert this dataframe to an interactive table.\"\n",
              "              style=\"display:none;\">\n",
              "        \n",
              "  <svg xmlns=\"http://www.w3.org/2000/svg\" height=\"24px\"viewBox=\"0 0 24 24\"\n",
              "       width=\"24px\">\n",
              "    <path d=\"M0 0h24v24H0V0z\" fill=\"none\"/>\n",
              "    <path d=\"M18.56 5.44l.94 2.06.94-2.06 2.06-.94-2.06-.94-.94-2.06-.94 2.06-2.06.94zm-11 1L8.5 8.5l.94-2.06 2.06-.94-2.06-.94L8.5 2.5l-.94 2.06-2.06.94zm10 10l.94 2.06.94-2.06 2.06-.94-2.06-.94-.94-2.06-.94 2.06-2.06.94z\"/><path d=\"M17.41 7.96l-1.37-1.37c-.4-.4-.92-.59-1.43-.59-.52 0-1.04.2-1.43.59L10.3 9.45l-7.72 7.72c-.78.78-.78 2.05 0 2.83L4 21.41c.39.39.9.59 1.41.59.51 0 1.02-.2 1.41-.59l7.78-7.78 2.81-2.81c.8-.78.8-2.07 0-2.86zM5.41 20L4 18.59l7.72-7.72 1.47 1.35L5.41 20z\"/>\n",
              "  </svg>\n",
              "      </button>\n",
              "      \n",
              "  <style>\n",
              "    .colab-df-container {\n",
              "      display:flex;\n",
              "      flex-wrap:wrap;\n",
              "      gap: 12px;\n",
              "    }\n",
              "\n",
              "    .colab-df-convert {\n",
              "      background-color: #E8F0FE;\n",
              "      border: none;\n",
              "      border-radius: 50%;\n",
              "      cursor: pointer;\n",
              "      display: none;\n",
              "      fill: #1967D2;\n",
              "      height: 32px;\n",
              "      padding: 0 0 0 0;\n",
              "      width: 32px;\n",
              "    }\n",
              "\n",
              "    .colab-df-convert:hover {\n",
              "      background-color: #E2EBFA;\n",
              "      box-shadow: 0px 1px 2px rgba(60, 64, 67, 0.3), 0px 1px 3px 1px rgba(60, 64, 67, 0.15);\n",
              "      fill: #174EA6;\n",
              "    }\n",
              "\n",
              "    [theme=dark] .colab-df-convert {\n",
              "      background-color: #3B4455;\n",
              "      fill: #D2E3FC;\n",
              "    }\n",
              "\n",
              "    [theme=dark] .colab-df-convert:hover {\n",
              "      background-color: #434B5C;\n",
              "      box-shadow: 0px 1px 3px 1px rgba(0, 0, 0, 0.15);\n",
              "      filter: drop-shadow(0px 1px 2px rgba(0, 0, 0, 0.3));\n",
              "      fill: #FFFFFF;\n",
              "    }\n",
              "  </style>\n",
              "\n",
              "      <script>\n",
              "        const buttonEl =\n",
              "          document.querySelector('#df-685a80db-41fb-4692-ae8e-b0d4c8b3ede2 button.colab-df-convert');\n",
              "        buttonEl.style.display =\n",
              "          google.colab.kernel.accessAllowed ? 'block' : 'none';\n",
              "\n",
              "        async function convertToInteractive(key) {\n",
              "          const element = document.querySelector('#df-685a80db-41fb-4692-ae8e-b0d4c8b3ede2');\n",
              "          const dataTable =\n",
              "            await google.colab.kernel.invokeFunction('convertToInteractive',\n",
              "                                                     [key], {});\n",
              "          if (!dataTable) return;\n",
              "\n",
              "          const docLinkHtml = 'Like what you see? Visit the ' +\n",
              "            '<a target=\"_blank\" href=https://colab.research.google.com/notebooks/data_table.ipynb>data table notebook</a>'\n",
              "            + ' to learn more about interactive tables.';\n",
              "          element.innerHTML = '';\n",
              "          dataTable['output_type'] = 'display_data';\n",
              "          await google.colab.output.renderOutput(dataTable, element);\n",
              "          const docLink = document.createElement('div');\n",
              "          docLink.innerHTML = docLinkHtml;\n",
              "          element.appendChild(docLink);\n",
              "        }\n",
              "      </script>\n",
              "    </div>\n",
              "  </div>\n",
              "  "
            ],
            "text/plain": [
              "            Id  ... labels\n",
              "0            1  ...    1.0\n",
              "1            2  ...    NaN\n",
              "2            3  ...    0.0\n",
              "3            4  ...    NaN\n",
              "4            5  ...    0.0\n",
              "...        ...  ...    ...\n",
              "568449  568450  ...    NaN\n",
              "568450  568451  ...    NaN\n",
              "568451  568452  ...    NaN\n",
              "568452  568453  ...    NaN\n",
              "568453  568454  ...    NaN\n",
              "\n",
              "[568454 rows x 15 columns]"
            ]
          },
          "metadata": {},
          "execution_count": 58
        }
      ],
      "source": [
        "sorting_labels(df)\n",
        "sorting_hints(df)"
      ]
    },
    {
      "cell_type": "code",
      "source": [
        "# 라벨 분포 => 3 (둘 다 있는 경우의 라벨이 매우 적다.)\n",
        "df['labels'].value_counts()"
      ],
      "metadata": {
        "colab": {
          "base_uri": "https://localhost:8080/"
        },
        "id": "_pcNXbkJiwlo",
        "outputId": "03b789bb-ecaf-4210-edd8-4e617f81c279"
      },
      "execution_count": null,
      "outputs": [
        {
          "output_type": "execute_result",
          "data": {
            "text/plain": [
              "0.0    52211\n",
              "1.0    35806\n",
              "2.0    17439\n",
              "3.0      430\n",
              "Name: labels, dtype: int64"
            ]
          },
          "metadata": {},
          "execution_count": 48
        }
      ]
    },
    {
      "cell_type": "code",
      "source": [
        "#######\n",
        "######## 텍스트에 dog or cat이 없더라도 Summary에 있는 경우 캐치한다.\n",
        "\n",
        "df_bert= df[(((df['Summary'].str.contains('dog')) |\n",
        "    (df['Summary'].str.contains('Dog')) |\n",
        "    (df['Summary'].str.contains('DOG'))) &\n",
        "    ~((df['Text'].str.contains('dog')) |\n",
        "    (df['Text'].str.contains('Dog')) |\n",
        "    (df['Text'].str.contains('DOG')))) |\n",
        "\n",
        "    (((df['Summary'].str.contains('cat')) |\n",
        "    (df['Summary'].str.contains('Cat')) |\n",
        "    (df['Summary'].str.contains('CAT'))) &\n",
        "    ~((df['Text'].str.contains('cat')) |\n",
        "    (df['Text'].str.contains('Cat')) |\n",
        "    (df['Text'].str.contains('CAT')))) |\n",
        "\n",
        "    ((df['labels']== 0) &\n",
        "    ~((df['Text'].str.contains('cat')) |\n",
        "    (df['Text'].str.contains('Cat')) |\n",
        "    (df['Text'].str.contains('CAT')) |\n",
        "    (df['Text'].str.contains('dog')) |\n",
        "    (df['Text'].str.contains('Dog')) |\n",
        "    (df['Text'].str.contains('DOG')))) |\n",
        "    \n",
        "    (df['labels']==3)]\n"
      ],
      "metadata": {
        "id": "NDiENU8JdVUr"
      },
      "execution_count": null,
      "outputs": []
    },
    {
      "cell_type": "code",
      "source": [
        "df['labels'].value_counts()"
      ],
      "metadata": {
        "colab": {
          "base_uri": "https://localhost:8080/"
        },
        "id": "T6MrTKLbFSNP",
        "outputId": "acfec0a6-4f6b-4f79-b2ea-b2feef6bab48"
      },
      "execution_count": null,
      "outputs": [
        {
          "output_type": "execute_result",
          "data": {
            "text/plain": [
              "0.0    39068\n",
              "1.0    35785\n",
              "2.0    17465\n",
              "3.0      420\n",
              "Name: labels, dtype: int64"
            ]
          },
          "metadata": {},
          "execution_count": 9
        }
      ]
    },
    {
      "cell_type": "code",
      "source": [
        "df_bert['labels'].value_counts()"
      ],
      "metadata": {
        "colab": {
          "base_uri": "https://localhost:8080/"
        },
        "outputId": "53491412-69fe-42f4-d28f-f74bf2d44d3a",
        "id": "EtFvk3g5dVUs"
      },
      "execution_count": null,
      "outputs": [
        {
          "output_type": "execute_result",
          "data": {
            "text/plain": [
              "0.0    37109\n",
              "1.0     2811\n",
              "2.0      962\n",
              "3.0      420\n",
              "Name: labels, dtype: int64"
            ]
          },
          "metadata": {},
          "execution_count": 10
        }
      ]
    },
    {
      "cell_type": "markdown",
      "source": [
        "### 반려동물(dog, cat)을 키우는 고객 여부 파악. 2차 BERT를 이용한 분류\n",
        "\n",
        "dog과 cat의 여부를 파악할 수 있는 words를 포함하고 있다면, 각각의 label을 부여한다.  \n",
        "(No: 0, dog: 1, cat: 2, both: 3)"
      ],
      "metadata": {
        "id": "yDbpy2S87nLx"
      }
    },
    {
      "cell_type": "markdown",
      "source": [
        "#### Tokenizer 작성 \n",
        "\n",
        "모델 입력에 이용할 BertTokenizer를 작성합니다. "
      ],
      "metadata": {
        "id": "8aSGudMb2eOT"
      }
    },
    {
      "cell_type": "code",
      "source": [
        "\n",
        "# Config 설적을 통해 Bert base 모델 가져오기\n",
        "config = BertConfig.from_pretrained('bert-base-uncased')\n",
        "config.output_hidden_states = False\n",
        "\n",
        "# 토크나이저 정의 - Config를 일치시켜 같은 모델에 대한 토크나이저를 가져오기\n",
        "tokenizer = BertTokenizer.from_pretrained(pretrained_model_name_or_path = 'bert-base-uncased', config = config)\n",
        "\n",
        "# Bert 모델 가져오기\n",
        "transformer_model = TFBertModel.from_pretrained('bert-base-uncased', config = config)\n"
      ],
      "metadata": {
        "id": "NJN71P_q7EAE",
        "colab": {
          "base_uri": "https://localhost:8080/",
          "referenced_widgets": [
            "ee7ba6b4edd240a7b445361cd247cf67",
            "956db3d636f140329540739490d6c7f0",
            "3c1f42928693403498d8a9a751294d1d",
            "06ebd9bd0ad445d8be335772043ac15c",
            "47a1cba1b4404be39d0296a4a4ad05c6",
            "17a2c98e930a4288995684ca90655250",
            "c58e41f6ef69457184691af00d7dbba6",
            "6f9e8ab5028042d5b02f8b857c554150",
            "83608cc497f24f6980d064ce3f202674",
            "003345b1297d4f5fa29fee56786eddec",
            "b48bf9855ceb4406806f8de06eabff48",
            "91831e18881945bb9f181d17a38135b0",
            "8cd717ce7c554817949c0a040e7b6009",
            "42905d608e224626b41ab1a79803eaa9",
            "7997fbd2b9164995bc96e07b4fd1be2d",
            "a68b4daabaf14a79afb3471b39dae5cc",
            "f00e73fc84a9411286ed10a7a4face25",
            "ab687cca1b8b4c6e82b667290b01b75f",
            "932117b02c584f2fa28292365a9a4d0e",
            "441033095bad4ba5ba50735b9726e999",
            "f0434fe523b742189ec1e443c58c05ef",
            "2bd93abf2edd4f65b660341bb4e52cf9",
            "753d1e8bfbb0422697e7b69545640ece",
            "11bbb9129bde45dfb5a06d9a92ffeee3",
            "68169b6777b84d5f9739e54713676e56",
            "61240cef01044bb69adbfca02f81e81d",
            "26d919a496fe44a3b3a0729c78da8c37",
            "dcad205fff5a4fc3a112cb1e062aba75",
            "e341598cc2b341ca94a6250898f03ef4",
            "ced46c79f42f43849e978dca2bd0c127",
            "58ca58deb2e549a284bb960eff195335",
            "948ab2240733474aa5c293b2ebde0320",
            "e0d60cf485864f37b29c4909ea7dd422",
            "fac7c174c64641b7bdad8a5d5fc17062",
            "fe158422b282423db8feca1f47962e3b",
            "154d81e893de462bbc915273f2d168d5",
            "555f7bd14c3c4269b1682f158dcc2828",
            "7dac593cd0604122af6566c3216cb188",
            "ee3e9ec863c44c8396c38edae80d9361",
            "59a4ab7761ce4d8e9004f3fa617cd90f",
            "e2249acb94bc42ff83eedbe20a61b5b2",
            "dcf657c5a62348d99db498411cb6b8ce",
            "65d8075e2c6d4726919d76ede90aaab9",
            "8b3cf1ac62e34582b9aae0a5de1186c4",
            "8f48177e535d46f18155548db339b259",
            "d29e921b7d7a41458ab70ecd96333164",
            "4e92415c720b4aa8b7779a7db9a39e40",
            "f5bd69de0f77461fa78ad8b37b677d80",
            "b7b9d921373047f2bafddd541875c7b3",
            "3fc2ff3725b34cf6865c11c1f106b3a0",
            "0133f671023a4831b62511a666b98da2",
            "ab759ad121d049a490e923797a2c6879",
            "f7b98a705cfa4845b74c9afeffce1e70",
            "28ec73b4c2854985ad6b89fb53cfd325",
            "86bc2546c55f46918878f3ac8158f6f9"
          ],
          "height": 268
        },
        "outputId": "0cccc09f-41b8-4b27-848b-978f35941167"
      },
      "execution_count": null,
      "outputs": [
        {
          "output_type": "display_data",
          "data": {
            "application/vnd.jupyter.widget-view+json": {
              "model_id": "ee7ba6b4edd240a7b445361cd247cf67",
              "version_minor": 0,
              "version_major": 2
            },
            "text/plain": [
              "Downloading:   0%|          | 0.00/570 [00:00<?, ?B/s]"
            ]
          },
          "metadata": {}
        },
        {
          "output_type": "display_data",
          "data": {
            "application/vnd.jupyter.widget-view+json": {
              "model_id": "91831e18881945bb9f181d17a38135b0",
              "version_minor": 0,
              "version_major": 2
            },
            "text/plain": [
              "Downloading:   0%|          | 0.00/28.0 [00:00<?, ?B/s]"
            ]
          },
          "metadata": {}
        },
        {
          "output_type": "display_data",
          "data": {
            "application/vnd.jupyter.widget-view+json": {
              "model_id": "753d1e8bfbb0422697e7b69545640ece",
              "version_minor": 0,
              "version_major": 2
            },
            "text/plain": [
              "Downloading:   0%|          | 0.00/226k [00:00<?, ?B/s]"
            ]
          },
          "metadata": {}
        },
        {
          "output_type": "display_data",
          "data": {
            "application/vnd.jupyter.widget-view+json": {
              "model_id": "fac7c174c64641b7bdad8a5d5fc17062",
              "version_minor": 0,
              "version_major": 2
            },
            "text/plain": [
              "Downloading:   0%|          | 0.00/455k [00:00<?, ?B/s]"
            ]
          },
          "metadata": {}
        },
        {
          "output_type": "display_data",
          "data": {
            "application/vnd.jupyter.widget-view+json": {
              "model_id": "8f48177e535d46f18155548db339b259",
              "version_minor": 0,
              "version_major": 2
            },
            "text/plain": [
              "Downloading:   0%|          | 0.00/511M [00:00<?, ?B/s]"
            ]
          },
          "metadata": {}
        },
        {
          "output_type": "stream",
          "name": "stderr",
          "text": [
            "Some layers from the model checkpoint at bert-base-uncased were not used when initializing TFBertModel: ['nsp___cls', 'mlm___cls']\n",
            "- This IS expected if you are initializing TFBertModel from the checkpoint of a model trained on another task or with another architecture (e.g. initializing a BertForSequenceClassification model from a BertForPreTraining model).\n",
            "- This IS NOT expected if you are initializing TFBertModel from the checkpoint of a model that you expect to be exactly identical (initializing a BertForSequenceClassification model from a BertForSequenceClassification model).\n",
            "All the layers of TFBertModel were initialized from the model checkpoint at bert-base-uncased.\n",
            "If your task is similar to the task the model of the checkpoint was trained on, you can already use TFBertModel for predictions without further training.\n"
          ]
        }
      ]
    },
    {
      "cell_type": "markdown",
      "source": [
        "#### Model Architecture 작성\n"
      ],
      "metadata": {
        "id": "F3nLKCkD3I2U"
      }
    },
    {
      "cell_type": "code",
      "source": [
        "bert = transformer_model.layers[0]\n",
        "input_ids = tf.keras.Input(shape = (128, ), name = 'input_ids', dtype = 'int32')\n",
        "inputs = {'input':input_ids}\n",
        "bert_model = bert(input_ids)[1]\n",
        "dropout = Dropout(config.hidden_dropout_prob, name = 'pooled_output')\n",
        "pooled_output = dropout(bert_model, training=False)\n",
        "outputs = tf.keras.layers.Dense(4, activation = 'softmax', kernel_initializer = tf.keras.initializers.TruncatedNormal(stddev=config.initializer_range), name = 'output')(pooled_output)\n",
        "model = tf.keras.Model(inputs = inputs, outputs = outputs, name = 'Bert_Classifier')\n",
        "model.summary()"
      ],
      "metadata": {
        "colab": {
          "base_uri": "https://localhost:8080/"
        },
        "outputId": "b083f2bd-2af7-4ead-a793-dd52491935a7",
        "id": "v2XeISD6Z9tF"
      },
      "execution_count": null,
      "outputs": [
        {
          "output_type": "stream",
          "name": "stdout",
          "text": [
            "Model: \"Bert_Classifier\"\n",
            "_________________________________________________________________\n",
            " Layer (type)                Output Shape              Param #   \n",
            "=================================================================\n",
            " input_ids (InputLayer)      [(None, 128)]             0         \n",
            "                                                                 \n",
            " bert (TFBertMainLayer)      TFBaseModelOutputWithPoo  109482240 \n",
            "                             lingAndCrossAttentions(l            \n",
            "                             ast_hidden_state=(None,             \n",
            "                             128, 768),                          \n",
            "                              pooler_output=(None, 76            \n",
            "                             8),                                 \n",
            "                              past_key_values=None, h            \n",
            "                             idden_states=None, atten            \n",
            "                             tions=None, cross_attent            \n",
            "                             ions=None)                          \n",
            "                                                                 \n",
            " pooled_output (Dropout)     (None, 768)               0         \n",
            "                                                                 \n",
            " output (Dense)              (None, 4)                 3076      \n",
            "                                                                 \n",
            "=================================================================\n",
            "Total params: 109,485,316\n",
            "Trainable params: 109,485,316\n",
            "Non-trainable params: 0\n",
            "_________________________________________________________________\n"
          ]
        }
      ]
    },
    {
      "cell_type": "markdown",
      "source": [
        "#### Under Sampling\n",
        "\n",
        "고양이와 강아지 모두 키우는 사람이 수가 적으므로 해당 수에 맞춰서 학습시킨다."
      ],
      "metadata": {
        "id": "jNF9v6cxrJP6"
      }
    },
    {
      "cell_type": "code",
      "source": [
        "df_bert_1 = df_bert[df_bert['labels']==1][:300]\n",
        "df_bert_2 = df_bert[df_bert['labels']==2][:300]\n",
        "df_bert_0 = df_bert[df_bert['labels']==0][:300]\n",
        "df_bert_3 = df_bert[df_bert['labels']==3][:300]\n",
        "df_bert_train = pd.concat([df_bert_1,df_bert_2,df_bert_3,df_bert_0])\n",
        "df_bert_train = df_bert_train.sample(frac=1)"
      ],
      "metadata": {
        "id": "BytDlUEHdVUs"
      },
      "execution_count": null,
      "outputs": []
    },
    {
      "cell_type": "code",
      "source": [
        "df_bert_11 = df_bert[df_bert['labels']==1][300:420]\n",
        "df_bert_22 = df_bert[df_bert['labels']==2][300:420]\n",
        "df_bert_00 = df_bert[df_bert['labels']==0][300:420]\n",
        "df_bert_33 = df_bert[df_bert['labels']==3][300:420]\n",
        "df_bert_val = pd.concat([df_bert_11,df_bert_22,df_bert_33,df_bert_00])\n",
        "df_bert_val = df_bert_val.sample(frac=1)"
      ],
      "metadata": {
        "id": "W1bew35hdVUs"
      },
      "execution_count": null,
      "outputs": []
    },
    {
      "cell_type": "code",
      "source": [
        "df_bert_111 = df_bert[df_bert['labels']==1][420:5420]\n",
        "df_bert_222 = df_bert[df_bert['labels']==2][420:5420]\n",
        "df_bert_000 = df_bert[df_bert['labels']==0][420:5420]\n",
        "# df_bert_33 = df_bert[df_bert['labels']==3][420:5420]\n",
        "df_bert_test = pd.concat([df_bert_111,df_bert_222,df_bert_000])\n",
        "df_bert_test = df_bert_test.sample(frac=1)"
      ],
      "metadata": {
        "id": "aXhj-95zf-Iu"
      },
      "execution_count": null,
      "outputs": []
    },
    {
      "cell_type": "code",
      "source": [
        "df[df['labels'].notnull()]['labels'].value_counts()"
      ],
      "metadata": {
        "outputId": "e4f871c6-f0de-46ba-d236-66a432b4e4e3",
        "colab": {
          "base_uri": "https://localhost:8080/"
        },
        "id": "w8qJewpmdVUt"
      },
      "execution_count": null,
      "outputs": [
        {
          "output_type": "execute_result",
          "data": {
            "text/plain": [
              "0.0    39068\n",
              "1.0    35785\n",
              "2.0    17465\n",
              "3.0      420\n",
              "Name: labels, dtype: int64"
            ]
          },
          "metadata": {},
          "execution_count": 13
        }
      ]
    },
    {
      "cell_type": "code",
      "source": [
        "%%time\n",
        "\n",
        "optimizer = tf.keras.optimizers.Adam(learning_rate = 5e-05,\n",
        "                                     epsilon=1e-08,\n",
        "                                     decay=0.01,\n",
        "                                     clipnorm=1.0)\n",
        "loss = 'sparse_categorical_crossentropy'\n",
        "metric = ['accuracy']\n",
        "\n",
        "model.compile(optimizer = optimizer, loss = loss, metrics = metric)\n",
        "\n",
        "x= tokenizer(\n",
        "    text = df_bert_train['Text'].to_list(),\n",
        "    add_special_tokens=True,\n",
        "    max_length = 128,\n",
        "    truncation = True,\n",
        "    padding = True,\n",
        "    return_tensors='tf',\n",
        "    return_token_type_ids=False,\n",
        "    # returen_attention_mask=False,\n",
        "    verbose = True\n",
        "     \n",
        ")\n",
        "\n",
        "early = tf.keras.callbacks.EarlyStopping(monitor = 'val_loss', patience=3, restore_best_weights= True)\n",
        "\n",
        "\n",
        "history = model.fit(x['input_ids'],df_bert_train['labels'], validation_split=0.2, batch_size = 64, epochs=10, callbacks=[early])"
      ],
      "metadata": {
        "colab": {
          "base_uri": "https://localhost:8080/"
        },
        "id": "QD4qJkcEIPWf",
        "outputId": "b811c537-810d-4f7b-8988-5bfd9ba3e859"
      },
      "execution_count": null,
      "outputs": [
        {
          "output_type": "stream",
          "name": "stdout",
          "text": [
            "Epoch 1/10\n",
            "15/15 [==============================] - 32s 1s/step - loss: 1.3387 - accuracy: 0.3406 - val_loss: 1.3053 - val_accuracy: 0.3958\n",
            "Epoch 2/10\n",
            "15/15 [==============================] - 14s 972ms/step - loss: 1.2403 - accuracy: 0.4219 - val_loss: 1.1563 - val_accuracy: 0.4917\n",
            "Epoch 3/10\n",
            "15/15 [==============================] - 14s 972ms/step - loss: 0.9695 - accuracy: 0.5698 - val_loss: 0.7455 - val_accuracy: 0.6917\n",
            "Epoch 4/10\n",
            "15/15 [==============================] - 14s 973ms/step - loss: 0.6197 - accuracy: 0.7635 - val_loss: 0.4728 - val_accuracy: 0.8417\n",
            "Epoch 5/10\n",
            "15/15 [==============================] - 14s 973ms/step - loss: 0.3886 - accuracy: 0.8823 - val_loss: 0.4667 - val_accuracy: 0.8167\n",
            "Epoch 6/10\n",
            "15/15 [==============================] - 14s 973ms/step - loss: 0.2298 - accuracy: 0.9406 - val_loss: 0.4369 - val_accuracy: 0.8458\n",
            "Epoch 7/10\n",
            "15/15 [==============================] - 14s 953ms/step - loss: 0.1198 - accuracy: 0.9792 - val_loss: 0.4439 - val_accuracy: 0.8458\n",
            "Epoch 8/10\n",
            "15/15 [==============================] - 14s 951ms/step - loss: 0.0728 - accuracy: 0.9917 - val_loss: 0.4447 - val_accuracy: 0.8500\n",
            "Epoch 9/10\n",
            "15/15 [==============================] - 14s 964ms/step - loss: 0.0508 - accuracy: 0.9917 - val_loss: 0.5065 - val_accuracy: 0.8583\n",
            "CPU times: user 1min 35s, sys: 47.6 s, total: 2min 22s\n",
            "Wall time: 2min 30s\n"
          ]
        }
      ]
    },
    {
      "cell_type": "code",
      "source": [
        "from sklearn.metrics import accuracy_score, confusion_matrix, classification_report\n",
        "x1= tokenizer(\n",
        "    text = df_bert_val['Text'].to_list(),\n",
        "    add_special_tokens=True,\n",
        "    max_length = 128,\n",
        "    truncation = True,\n",
        "    padding = True,\n",
        "    return_tensors='tf',\n",
        "    return_token_type_ids=False,\n",
        "    # returen_attention_mask=False,\n",
        "    verbose = True\n",
        ")\n",
        "\n",
        "pred = model.predict(x1['input_ids'])\n",
        "# pred_opt = pred >= 0.5\n",
        "\n",
        "pred_result = [np.argmax(pred[i]) for i in range(len(pred))]\n",
        "len(pred_result)\n",
        "\n",
        "\n",
        "print(\"accuracy: {:.3f}\".format(accuracy_score(df_bert_val['labels'],pred_result)))\n",
        "# print(\"f1_score \\n\",f1_score(df_bert_val['labels'],pred_result))\n",
        "print(\"confusion matrix \\n\",confusion_matrix(df_bert_val['labels'],pred_result))\n",
        "print('classification report \\n', classification_report(df_bert_val['labels'], pred_result, target_names = ['0 없음','1 강아지','2 고양이','3 강아지 + 고양이']))"
      ],
      "metadata": {
        "colab": {
          "base_uri": "https://localhost:8080/"
        },
        "id": "UvaAAbtxZrKE",
        "outputId": "fea586cd-8ad3-4bd5-d537-c5b4b50e30aa"
      },
      "execution_count": null,
      "outputs": [
        {
          "output_type": "stream",
          "name": "stdout",
          "text": [
            "accuracy: 0.890\n",
            "confusion matrix \n",
            " [[111   0   9   0]\n",
            " [  1 108   9   2]\n",
            " [ 13  13  90   4]\n",
            " [  0   1   1 118]]\n",
            "classification report \n",
            "               precision    recall  f1-score   support\n",
            "\n",
            "        0 없음       0.89      0.93      0.91       120\n",
            "       1 강아지       0.89      0.90      0.89       120\n",
            "       2 고양이       0.83      0.75      0.79       120\n",
            " 3 강아지 + 고양이       0.95      0.98      0.97       120\n",
            "\n",
            "    accuracy                           0.89       480\n",
            "   macro avg       0.89      0.89      0.89       480\n",
            "weighted avg       0.89      0.89      0.89       480\n",
            "\n"
          ]
        }
      ]
    },
    {
      "cell_type": "code",
      "source": [
        ""
      ],
      "metadata": {
        "id": "aXfexs_VKu4a"
      },
      "execution_count": null,
      "outputs": []
    },
    {
      "cell_type": "markdown",
      "source": [
        "#### 재학습"
      ],
      "metadata": {
        "id": "aKzaJhvpJ9w0"
      }
    },
    {
      "cell_type": "code",
      "source": [
        "df_bert_1111 = df[df['labels']==1][:10000]\n",
        "df_bert_2222 = df[df['labels']==2][:10000]\n",
        "df_bert_0000 = df[df['labels']==0][:10000]\n",
        "# df_bert_3 = df[df['labels']==3][:300]\n",
        "df_bert_train2 = pd.concat([df_bert_1111,df_bert_2222,df_bert_0000])\n",
        "df_bert_train2 = df_bert_train2.sample(frac=1)"
      ],
      "metadata": {
        "id": "DN1ffNxHJXjE"
      },
      "execution_count": null,
      "outputs": []
    },
    {
      "cell_type": "code",
      "source": [
        "df_bert_11111 = df[df['labels']==1][10000:]\n",
        "df_bert_22222 = df[df['labels']==2][10000:]\n",
        "df_bert_00000 = df[df['labels']==0][10000:]\n",
        "df_bert_33333 = df[df['labels']==3]\n",
        "df_bert_test2 = pd.concat([df_bert_11111,df_bert_22222,df_bert_33333,df_bert_00000])\n",
        "df_bert_test2 = df_bert_test2.sample(frac=1)"
      ],
      "metadata": {
        "id": "91HrGVXMKelV"
      },
      "execution_count": null,
      "outputs": []
    },
    {
      "cell_type": "code",
      "source": [
        "%%time\n",
        "\n",
        "optimizer = tf.keras.optimizers.Adam(learning_rate = 5e-05,\n",
        "                                     epsilon=1e-08,\n",
        "                                     decay=0.01,\n",
        "                                     clipnorm=1.0)\n",
        "loss = 'sparse_categorical_crossentropy'\n",
        "metric = ['accuracy']\n",
        "\n",
        "model.compile(optimizer = optimizer, loss = loss, metrics = metric)\n",
        "\n",
        "x2= tokenizer(\n",
        "    text = df_bert_train2['Text'].to_list(),\n",
        "    add_special_tokens=True,\n",
        "    max_length = 128,\n",
        "    truncation = True,\n",
        "    padding = True,\n",
        "    return_tensors='tf',\n",
        "    return_token_type_ids=False,\n",
        "    # returen_attention_mask=False,\n",
        "    verbose = True\n",
        "     \n",
        ")\n",
        "\n",
        "early = tf.keras.callbacks.EarlyStopping(monitor = 'val_loss', patience=3, restore_best_weights= True)\n",
        "\n",
        "\n",
        "history = model.fit(x2['input_ids'],df_bert_train2['labels'], validation_split=0.2, batch_size = 64, initial_epoch= history.epoch[-1], epochs=20, callbacks=[early])"
      ],
      "metadata": {
        "colab": {
          "base_uri": "https://localhost:8080/"
        },
        "id": "75IS3ZARK7e_",
        "outputId": "0a01fd23-36b2-4229-9c2f-46e4b610e751"
      },
      "execution_count": null,
      "outputs": [
        {
          "output_type": "stream",
          "name": "stdout",
          "text": [
            "Epoch 9/20\n",
            "375/375 [==============================] - 371s 953ms/step - loss: 0.1222 - accuracy: 0.9625 - val_loss: 0.0831 - val_accuracy: 0.9780\n",
            "Epoch 10/20\n",
            "375/375 [==============================] - 354s 944ms/step - loss: 0.0569 - accuracy: 0.9841 - val_loss: 0.0732 - val_accuracy: 0.9810\n",
            "Epoch 11/20\n",
            "375/375 [==============================] - 353s 943ms/step - loss: 0.0396 - accuracy: 0.9893 - val_loss: 0.0742 - val_accuracy: 0.9813\n",
            "Epoch 12/20\n",
            "375/375 [==============================] - 354s 943ms/step - loss: 0.0293 - accuracy: 0.9934 - val_loss: 0.0708 - val_accuracy: 0.9817\n",
            "Epoch 13/20\n",
            "375/375 [==============================] - 353s 942ms/step - loss: 0.0227 - accuracy: 0.9947 - val_loss: 0.0725 - val_accuracy: 0.9827\n",
            "Epoch 14/20\n",
            "375/375 [==============================] - 353s 943ms/step - loss: 0.0186 - accuracy: 0.9959 - val_loss: 0.0774 - val_accuracy: 0.9827\n",
            "Epoch 15/20\n",
            "375/375 [==============================] - 354s 943ms/step - loss: 0.0153 - accuracy: 0.9968 - val_loss: 0.0761 - val_accuracy: 0.9825\n",
            "CPU times: user 25min 39s, sys: 14min 50s, total: 40min 29s\n",
            "Wall time: 42min 47s\n"
          ]
        }
      ]
    },
    {
      "cell_type": "markdown",
      "source": [
        "#### 과적합일 수 있으므로 불균형 대용량 테스트셋 생성"
      ],
      "metadata": {
        "id": "QAwAYnWtaZY1"
      }
    },
    {
      "cell_type": "code",
      "source": [
        "from sklearn.metrics import accuracy_score, confusion_matrix, classification_report, plot_confusion_matrix\n",
        "X= tokenizer(\n",
        "    text = df_bert_test2['Text'].to_list(),\n",
        "    add_special_tokens=True,\n",
        "    max_length = 128,\n",
        "    truncation = True,\n",
        "    padding = True,\n",
        "    return_tensors='tf',\n",
        "    return_token_type_ids=False,\n",
        "    # returen_attention_mask=False,\n",
        "    verbose = True\n",
        ")\n",
        "\n",
        "pred = model.predict(X['input_ids'])\n",
        "# pred_opt = pred >= 0.5\n",
        "\n",
        "pred_result = [np.argmax(pred[i]) for i in range(len(pred))]\n",
        "len(pred_result)\n",
        "\n",
        "\n",
        "print(\"accuracy: {:.3f}\".format(accuracy_score(df_bert_test2['labels'],pred_result)))\n",
        "# print(\"f1_score \\n\",f1_score(df_bert_test2['labels'],pred_result))\n",
        "print(\"confusion matrix \\n\",confusion_matrix(df_bert_test2['labels'],pred_result))\n",
        "print('classification report \\n', classification_report(df_bert_test2['labels'], pred_result, target_names = ['0 없음','1 강아지','2 고양이','3 강아지 + 고양이']))"
      ],
      "metadata": {
        "colab": {
          "base_uri": "https://localhost:8080/"
        },
        "id": "J5EVJAU-a_tV",
        "outputId": "fc444eca-341d-4aa2-a54f-eab1892427fc"
      },
      "execution_count": null,
      "outputs": [
        {
          "output_type": "stream",
          "name": "stdout",
          "text": [
            "accuracy: 0.974\n",
            "confusion matrix \n",
            " [[28485   174   409     0]\n",
            " [  215 25408   162     0]\n",
            " [  178    54  7233     0]\n",
            " [    1   179   240     0]]\n",
            "classification report \n",
            "               precision    recall  f1-score   support\n",
            "\n",
            "        0 없음       0.99      0.98      0.98     29068\n",
            "       1 강아지       0.98      0.99      0.98     25785\n",
            "       2 고양이       0.90      0.97      0.93      7465\n",
            " 3 강아지 + 고양이       0.00      0.00      0.00       420\n",
            "\n",
            "    accuracy                           0.97     62738\n",
            "   macro avg       0.72      0.73      0.73     62738\n",
            "weighted avg       0.97      0.97      0.97     62738\n",
            "\n"
          ]
        }
      ]
    },
    {
      "cell_type": "markdown",
      "source": [
        "#### SMOTE를 통한 Over Sampling\n",
        "\n",
        "K-MEANS 군집화를 이용해 군집 내 랜덤 샘플 생성"
      ],
      "metadata": {
        "id": "hSnrXRaasyX-"
      }
    },
    {
      "cell_type": "code",
      "source": [
        "df_bert['labels'].value_counts()"
      ],
      "metadata": {
        "colab": {
          "base_uri": "https://localhost:8080/"
        },
        "id": "v5U5iA5SFgL3",
        "outputId": "597ffc73-5921-40ad-84c4-9bacc5a9d351"
      },
      "execution_count": null,
      "outputs": [
        {
          "output_type": "execute_result",
          "data": {
            "text/plain": [
              "0.0    37109\n",
              "1.0     2811\n",
              "2.0      962\n",
              "3.0      420\n",
              "Name: labels, dtype: int64"
            ]
          },
          "metadata": {},
          "execution_count": 40
        }
      ]
    },
    {
      "cell_type": "code",
      "source": [
        "df_bert_1 = df_bert[df_bert['labels']==1][:800]\n",
        "df_bert_2 = df_bert[df_bert['labels']==2][:800]\n",
        "df_bert_0 = df_bert[df_bert['labels']==0][:800]\n",
        "df_bert_3 = df_bert[df_bert['labels']==3][:300]\n",
        "df_bert_train1 = pd.concat([df_bert_1,df_bert_2,df_bert_3,df_bert_0])\n",
        "df_bert_train1 = df_bert_train1.sample(frac=1)"
      ],
      "metadata": {
        "id": "pPolzCMgFdoR"
      },
      "execution_count": null,
      "outputs": []
    },
    {
      "cell_type": "code",
      "source": [
        "df_bert_11 = df_bert[df_bert['labels']==1][800:920]\n",
        "df_bert_22 = df_bert[df_bert['labels']==2][800:920]\n",
        "df_bert_00 = df_bert[df_bert['labels']==0][800:920]\n",
        "df_bert_33 = df_bert[df_bert['labels']==3][300:420]\n",
        "df_bert_val1 = pd.concat([df_bert_11,df_bert_22,df_bert_33,df_bert_00])\n",
        "df_bert_val1 = df_bert_val1.sample(frac=1)"
      ],
      "metadata": {
        "id": "0jQuYutJFdoX"
      },
      "execution_count": null,
      "outputs": []
    },
    {
      "cell_type": "code",
      "source": [
        "df_bert_train1.drop(columns=['ProfileName', 'HelpfulnessNumerator','HelpfulnessDenominator','date', 'keyword'], inplace = True)\n",
        "df_bert_val1.drop(columns=['ProfileName', 'HelpfulnessNumerator','HelpfulnessDenominator','date', 'keyword'], inplace = True)"
      ],
      "metadata": {
        "id": "VWj-Cf7TVYYQ"
      },
      "execution_count": null,
      "outputs": []
    },
    {
      "cell_type": "code",
      "source": [
        "from imblearn.over_sampling import BorderlineSMOTE\n",
        "import numpy as np\n",
        "from sklearn.cluster import KMeans\n",
        "from sklearn.decomposition import PCA \n",
        "from sklearn.preprocessing import StandardScaler\n",
        "from category_encoders import OrdinalEncoder\n",
        "\n",
        "def berttok(df, col):\n",
        "\n",
        "  df[col]= np.array(tokenizer(\n",
        "      text = df[col].to_list(),\n",
        "      add_special_tokens=True,\n",
        "      max_length = 128,\n",
        "      truncation = True,\n",
        "      padding = True,\n",
        "      # return_tensors='tf',\n",
        "      return_token_type_ids=False,\n",
        "      # returen_attention_mask=False,\n",
        "      verbose = True)['input_ids'])\n",
        "\n",
        "text = 'Text'\n",
        "summary = 'Summary'\n",
        "berttok(df_bert_train1, text)\n",
        "berttok(df_bert_train1, summary)\n",
        "berttok(df_bert_val1, text)\n",
        "berttok(df_bert_val1, summary)\n",
        "\n",
        "encoder = OrdinalEncoder(cols=['ProductId','UserId','dayofweek'])\n",
        "bert_train_encoded = encoder.fit_transform(df_bert_train1)\n",
        "bert_val_encoded = encoder.transform(df_bert_val1)\n",
        "\n",
        "scaler = StandardScaler()\n",
        "bert_train_scaled = scaler.fit_transform(bert_train_encoded)\n",
        "bert_val_scaled = scaler.transform(bert_val_encoded)\n",
        "\n",
        "\n",
        "pca = PCA(n_components = 2)           # 2차원으로 시각화를 진행할 것이므로 2개로 설정한다.\n",
        "pca.fit(bert_train_scaled)             \n",
        "df_p = pca.transform(bert_train_scaled)\n",
        "df_p = pd.DataFrame(df_p, columns = ['PC1','PC2']) #PCA진행 한 두 개의 값을 column으로 데이터프레임화 시킨다.\n",
        "df_p"
      ],
      "metadata": {
        "id": "at5q3PB8F6HQ"
      },
      "execution_count": null,
      "outputs": []
    },
    {
      "cell_type": "code",
      "source": [
        "# 군집 시각화\n",
        "sns.scatterplot(data = df_p, x = 'PC1',y = 'PC2', hue = 'label'); "
      ],
      "metadata": {
        "colab": {
          "base_uri": "https://localhost:8080/",
          "height": 279
        },
        "id": "1C3pDw9OZogQ",
        "outputId": "39f19f1e-ee4d-428a-e776-0543189c241e"
      },
      "execution_count": null,
      "outputs": [
        {
          "output_type": "display_data",
          "data": {
            "image/png": "[encoded data removed]",
            "text/plain": [
              "<Figure size 432x288 with 1 Axes>"
            ]
          },
          "metadata": {
            "needs_background": "light"
          }
        }
      ]
    },
    {
      "cell_type": "code",
      "source": [
        "# SMOTE 진행\n",
        "smote = BorderlineSMOTE()\n",
        "data,label = smote.fit_resample(df_p, labels)"
      ],
      "metadata": {
        "id": "WIJTmlIzGcjA"
      },
      "execution_count": null,
      "outputs": []
    },
    {
      "cell_type": "code",
      "source": [
        "# %%time\n",
        "\n",
        "bert = transformer_model.layers[0]\n",
        "input_ids = tf.keras.Input(shape = (10, ), name = 'input_ids', dtype = 'int32')\n",
        "inputs = {'input':input_ids}\n",
        "bert_model = bert(input_ids)[1]\n",
        "dropout = Dropout(config.hidden_dropout_prob, name = 'pooled_output')\n",
        "pooled_output = dropout(bert_model, training=False)\n",
        "outputs = tf.keras.layers.Dense(4, activation = 'softmax', kernel_initializer = tf.keras.initializers.TruncatedNormal(stddev=config.initializer_range), name = 'output')(pooled_output)\n",
        "model1= tf.keras.Model(inputs = inputs, outputs = outputs, name = 'Bert_Classifier')\n",
        "model1.summary()\n",
        "\n",
        "\n",
        "optimizer = tf.keras.optimizers.Adam(learning_rate = 5e-05,\n",
        "                                     epsilon=1e-08,\n",
        "                                     decay=0.01,\n",
        "                                     clipnorm=1.0)\n",
        "loss = 'sparse_categorical_crossentropy'\n",
        "metric = ['accuracy']\n",
        "\n",
        "model1.compile(optimizer = optimizer, loss = loss, metrics = metric)\n",
        "\n",
        "early = tf.keras.callbacks.EarlyStopping(monitor = 'val_loss', patience=3, restore_best_weights= True)\n",
        "\n"
      ],
      "metadata": {
        "colab": {
          "base_uri": "https://localhost:8080/"
        },
        "id": "L4wpAhbbIMmg",
        "outputId": "86c7fd33-6e3f-4f69-b439-79cfc863547b"
      },
      "execution_count": null,
      "outputs": [
        {
          "output_type": "stream",
          "name": "stdout",
          "text": [
            "Model: \"Bert_Classifier\"\n",
            "_________________________________________________________________\n",
            " Layer (type)                Output Shape              Param #   \n",
            "=================================================================\n",
            " input_ids (InputLayer)      [(None, 128)]             0         \n",
            "                                                                 \n",
            " bert (TFBertMainLayer)      multiple                  109482240 \n",
            "                                                                 \n",
            " pooled_output (Dropout)     (None, 768)               0         \n",
            "                                                                 \n",
            " output (Dense)              (None, 4)                 3076      \n",
            "                                                                 \n",
            "=================================================================\n",
            "Total params: 109,485,316\n",
            "Trainable params: 109,485,316\n",
            "Non-trainable params: 0\n",
            "_________________________________________________________________\n"
          ]
        }
      ]
    },
    {
      "cell_type": "code",
      "source": [
        "history = model1.fit(data,label, validation_split=0.2, batch_size = 64, epochs=10, callbacks=[early])"
      ],
      "metadata": {
        "id": "OthMcFWabMxn"
      },
      "execution_count": null,
      "outputs": []
    },
    {
      "cell_type": "markdown",
      "source": [
        "#### Scaling 하지 않고 SMOTE 진행"
      ],
      "metadata": {
        "id": "N2qTVfejkDvu"
      }
    },
    {
      "cell_type": "code",
      "source": [
        "x3= tokenizer(\n",
        "  text = df_bert_train1['Text'].to_list(),\n",
        "  add_special_tokens=True,\n",
        "  max_length = 128,\n",
        "  truncation = True,\n",
        "  padding = True,\n",
        "  return_tensors='tf',\n",
        "  return_token_type_ids=False,\n",
        "  # returen_attention_mask=False,\n",
        "  verbose = True)['input_ids']\n"
      ],
      "metadata": {
        "id": "hNg3cW2ReUCt"
      },
      "execution_count": null,
      "outputs": []
    },
    {
      "cell_type": "code",
      "source": [
        "kmeans = KMeans().fit(x3)\n",
        "labels = kmeans.predict(x3)\n",
        "smote = BorderlineSMOTE()\n",
        "data,label = smote.fit_resample(x3,df_bert_train1['labels'])"
      ],
      "metadata": {
        "id": "Hr-yZD9ve1Nu"
      },
      "execution_count": null,
      "outputs": []
    },
    {
      "cell_type": "code",
      "source": [
        "bert = transformer_model.layers[0]\n",
        "input_ids = tf.keras.Input(shape = (128, ), name = 'input_ids', dtype = 'int32')\n",
        "inputs = {'input':input_ids}\n",
        "bert_model = bert(input_ids)[1]\n",
        "dropout = Dropout(config.hidden_dropout_prob, name = 'pooled_output')\n",
        "pooled_output = dropout(bert_model, training=False)\n",
        "outputs = tf.keras.layers.Dense(4, activation = 'softmax', kernel_initializer = tf.keras.initializers.TruncatedNormal(stddev=config.initializer_range), name = 'output')(pooled_output)\n",
        "model2= tf.keras.Model(inputs = inputs, outputs = outputs, name = 'Bert_Classifier')\n",
        "model2.summary()\n",
        "\n",
        "\n",
        "optimizer = tf.keras.optimizers.Adam(learning_rate = 5e-06,\n",
        "                                     epsilon=1e-08,\n",
        "                                     decay=0.01,\n",
        "                                     clipnorm=1.0)\n",
        "loss = 'sparse_categorical_crossentropy'\n",
        "metric = ['accuracy']\n",
        "\n",
        "early = tf.keras.callbacks.EarlyStopping(monitor= 'val_loss', patience= 3)\n",
        "\n",
        "model2.compile(optimizer = optimizer, loss = loss, metrics = metric)"
      ],
      "metadata": {
        "colab": {
          "base_uri": "https://localhost:8080/"
        },
        "id": "CZMRRTDfe-il",
        "outputId": "ff1133e8-dd56-4b53-c20b-adaa01e33b0a"
      },
      "execution_count": null,
      "outputs": [
        {
          "output_type": "stream",
          "name": "stdout",
          "text": [
            "Model: \"Bert_Classifier\"\n",
            "_________________________________________________________________\n",
            " Layer (type)                Output Shape              Param #   \n",
            "=================================================================\n",
            " input_ids (InputLayer)      [(None, 128)]             0         \n",
            "                                                                 \n",
            " bert (TFBertMainLayer)      TFBaseModelOutputWithPoo  109482240 \n",
            "                             lingAndCrossAttentions(l            \n",
            "                             ast_hidden_state=(None,             \n",
            "                             128, 768),                          \n",
            "                              pooler_output=(None, 76            \n",
            "                             8),                                 \n",
            "                              past_key_values=None, h            \n",
            "                             idden_states=None, atten            \n",
            "                             tions=None, cross_attent            \n",
            "                             ions=None)                          \n",
            "                                                                 \n",
            " pooled_output (Dropout)     (None, 768)               0         \n",
            "                                                                 \n",
            " output (Dense)              (None, 4)                 3076      \n",
            "                                                                 \n",
            "=================================================================\n",
            "Total params: 109,485,316\n",
            "Trainable params: 109,485,316\n",
            "Non-trainable params: 0\n",
            "_________________________________________________________________\n"
          ]
        }
      ]
    },
    {
      "cell_type": "code",
      "source": [
        "model2.fit(data,label, validation_split=0.2, batch_size = 64, epochs=10, callbacks=[early])"
      ],
      "metadata": {
        "colab": {
          "base_uri": "https://localhost:8080/"
        },
        "id": "ViLgrnt2k8GK",
        "outputId": "03de723d-ae42-497e-9b26-7abae61c95ca"
      },
      "execution_count": null,
      "outputs": [
        {
          "output_type": "stream",
          "name": "stdout",
          "text": [
            "Epoch 1/10\n",
            "40/40 [==============================] - 58s 991ms/step - loss: 1.1316 - accuracy: 0.6559 - val_loss: 1.5027 - val_accuracy: 0.4766\n",
            "Epoch 2/10\n",
            "40/40 [==============================] - 37s 936ms/step - loss: 0.6938 - accuracy: 0.9219 - val_loss: 1.5424 - val_accuracy: 0.4703\n",
            "Epoch 3/10\n",
            "40/40 [==============================] - 37s 936ms/step - loss: 0.4960 - accuracy: 0.9324 - val_loss: 1.5888 - val_accuracy: 0.4766\n",
            "Epoch 4/10\n",
            "40/40 [==============================] - 40s 1000ms/step - loss: 0.3835 - accuracy: 0.9461 - val_loss: 1.6445 - val_accuracy: 0.4766\n"
          ]
        },
        {
          "output_type": "execute_result",
          "data": {
            "text/plain": [
              "<keras.callbacks.History at 0x7f5bc8639d10>"
            ]
          },
          "metadata": {},
          "execution_count": 18
        }
      ]
    },
    {
      "cell_type": "code",
      "source": [
        "x4= tokenizer(\n",
        "text = df_bert_val1['Text'].to_list(),\n",
        "add_special_tokens=True,\n",
        "max_length = 128,\n",
        "truncation = True,\n",
        "padding = True,\n",
        "return_tensors='tf',\n",
        "return_token_type_ids=False,\n",
        "# returen_attention_mask=False,\n",
        "verbose = True)['input_ids']\n",
        "\n",
        "kmeans = KMeans().fit(x4)\n",
        "labels = kmeans.predict(x4)\n",
        "smote = BorderlineSMOTE()\n",
        "data,label = smote.fit_resample(x4, df_bert_val1['labels'])\n",
        "\n",
        "model2.evaluate(x4, df_bert_val1)"
      ],
      "metadata": {
        "colab": {
          "base_uri": "https://localhost:8080/"
        },
        "id": "-WhZ9Gxaldzd",
        "outputId": "aa1c9f43-3cae-4868-e1b1-c1f57843c253"
      },
      "execution_count": null,
      "outputs": [
        {
          "output_type": "stream",
          "name": "stdout",
          "text": [
            "15/15 [==============================] - 4s 146ms/step - loss: 0.4508 - accuracy: 0.8896\n"
          ]
        },
        {
          "output_type": "execute_result",
          "data": {
            "text/plain": [
              "[0.4508122503757477, 0.8895833492279053]"
            ]
          },
          "metadata": {},
          "execution_count": 21
        }
      ]
    },
    {
      "cell_type": "code",
      "source": [
        "from sklearn.metrics import accuracy_score, confusion_matrix, classification_report\n",
        "\n",
        "pred = model2.predict(data)\n",
        "# pred_opt = pred >= 0.5\n",
        "\n",
        "pred_result = [np.argmax(pred[i]) for i in range(len(pred))]\n",
        "len(pred_result)\n",
        "\n",
        "\n",
        "print(\"accuracy: {:.3f}\".format(accuracy_score(label,pred_result)))\n",
        "# print(\"f1_score \\n\",f1_score(label,pred_result))\n",
        "print(\"confusion matrix \\n\",confusion_matrix(label,pred_result))\n",
        "print('classification report \\n', classification_report(label, pred_result, target_names = ['0 없음','1 강아지','2 고양이','3 강아지 + 고양이']))"
      ],
      "metadata": {
        "colab": {
          "base_uri": "https://localhost:8080/"
        },
        "id": "lrAikdQkli0l",
        "outputId": "ce1e6717-4eea-4f2f-802f-090997235f6d"
      },
      "execution_count": null,
      "outputs": [
        {
          "output_type": "stream",
          "name": "stdout",
          "text": [
            "accuracy: 0.890\n",
            "confusion matrix \n",
            " [[100   3  17   0]\n",
            " [  1 108   9   2]\n",
            " [  8   5 102   5]\n",
            " [  1   1   1 117]]\n",
            "classification report \n",
            "               precision    recall  f1-score   support\n",
            "\n",
            "        0 없음       0.91      0.83      0.87       120\n",
            "       1 강아지       0.92      0.90      0.91       120\n",
            "       2 고양이       0.79      0.85      0.82       120\n",
            " 3 강아지 + 고양이       0.94      0.97      0.96       120\n",
            "\n",
            "    accuracy                           0.89       480\n",
            "   macro avg       0.89      0.89      0.89       480\n",
            "weighted avg       0.89      0.89      0.89       480\n",
            "\n"
          ]
        }
      ]
    },
    {
      "cell_type": "code",
      "source": [
        "from sklearn.metrics import accuracy_score, confusion_matrix, classification_report\n",
        "\n",
        "pred = model2.predict(x4)\n",
        "# pred_opt = pred >= 0.5\n",
        "\n",
        "pred_result = [np.argmax(pred[i]) for i in range(len(pred))]\n",
        "len(pred_result)\n",
        "\n",
        "\n",
        "print(\"accuracy: {:.3f}\".format(accuracy_score(df_bert_val1['labels'],pred_result)))\n",
        "# print(\"f1_score \\n\",f1_score(df_bert_val1['labels'],pred_result))\n",
        "print(\"confusion matrix \\n\",confusion_matrix(df_bert_val1['labels'],pred_result))\n",
        "print('classification report \\n', classification_report(df_bert_val1['labels'], pred_result, target_names = ['0 없음','1 강아지','2 고양이','3 강아지 + 고양이']))"
      ],
      "metadata": {
        "colab": {
          "base_uri": "https://localhost:8080/"
        },
        "id": "y7T7q3eqU_aZ",
        "outputId": "677fc8b6-6498-416f-9be8-c6679b84e1b7"
      },
      "execution_count": null,
      "outputs": [
        {
          "output_type": "stream",
          "name": "stdout",
          "text": [
            "accuracy: 0.890\n",
            "confusion matrix \n",
            " [[100   3  17   0]\n",
            " [  1 108   9   2]\n",
            " [  8   5 102   5]\n",
            " [  1   1   1 117]]\n",
            "classification report \n",
            "               precision    recall  f1-score   support\n",
            "\n",
            "        0 없음       0.91      0.83      0.87       120\n",
            "       1 강아지       0.92      0.90      0.91       120\n",
            "       2 고양이       0.79      0.85      0.82       120\n",
            " 3 강아지 + 고양이       0.94      0.97      0.96       120\n",
            "\n",
            "    accuracy                           0.89       480\n",
            "   macro avg       0.89      0.89      0.89       480\n",
            "weighted avg       0.89      0.89      0.89       480\n",
            "\n"
          ]
        }
      ]
    },
    {
      "cell_type": "markdown",
      "source": [
        "#### 최종 SMOTE test셋 검증"
      ],
      "metadata": {
        "id": "_MzcoiokSNrw"
      }
    },
    {
      "cell_type": "code",
      "source": [
        "df_bert_test = df.drop(index= df_bert['Id'].index)"
      ],
      "metadata": {
        "id": "nXIoEhpuSW09"
      },
      "execution_count": null,
      "outputs": []
    },
    {
      "cell_type": "code",
      "source": [
        "df['labels'].value_counts()"
      ],
      "metadata": {
        "colab": {
          "base_uri": "https://localhost:8080/"
        },
        "id": "pwnLvn_CULTL",
        "outputId": "7e1e82be-413e-49af-9675-540c21c53f69"
      },
      "execution_count": null,
      "outputs": [
        {
          "output_type": "execute_result",
          "data": {
            "text/plain": [
              "0.0    39068\n",
              "1.0    35785\n",
              "2.0    17465\n",
              "3.0      420\n",
              "Name: labels, dtype: int64"
            ]
          },
          "metadata": {},
          "execution_count": 48
        }
      ]
    },
    {
      "cell_type": "code",
      "source": [
        "df_bert_111 = df_bert_test[df_bert_test['labels']==1][:10000]\n",
        "df_bert_222 = df_bert_test[df_bert_test['labels']==2][:10000]\n",
        "df_bert_000 = df_bert_test[df_bert_test['labels']==0][:10000]\n",
        "# df_bert_33 = df_bert_test[df_bert_test['labels']==3][300:420]\n",
        "df_bert_test1 = pd.concat([df_bert_111,df_bert_222,df_bert_000])\n",
        "df_bert_test1 = df_bert_test1.sample(frac=1)"
      ],
      "metadata": {
        "id": "mF2Q6jjWRZMR"
      },
      "execution_count": null,
      "outputs": []
    },
    {
      "cell_type": "code",
      "source": [
        "x5= tokenizer(\n",
        "text = df_bert_test1['Text'].to_list(),\n",
        "add_special_tokens=True,\n",
        "max_length = 128,\n",
        "truncation = True,\n",
        "padding = True,\n",
        "return_tensors='tf',\n",
        "return_token_type_ids=False,\n",
        "# returen_attention_mask=False,\n",
        "verbose = True)['input_ids']\n",
        "\n",
        "\n",
        "model2.evaluate(x5, df_bert_test1['labels'])"
      ],
      "metadata": {
        "colab": {
          "base_uri": "https://localhost:8080/"
        },
        "id": "qn9XHIzWUj0f",
        "outputId": "7e4819c2-50ac-4025-ff4f-923e87ba54ef"
      },
      "execution_count": null,
      "outputs": [
        {
          "output_type": "stream",
          "name": "stdout",
          "text": [
            "687/687 [==============================] - 119s 169ms/step - loss: 1.9562 - accuracy: 0.1402\n"
          ]
        },
        {
          "output_type": "execute_result",
          "data": {
            "text/plain": [
              "[1.9561833143234253, 0.14021585881710052]"
            ]
          },
          "metadata": {},
          "execution_count": 52
        }
      ]
    },
    {
      "cell_type": "code",
      "source": [
        "pred = model2.predict(x5)\n",
        "# pred_opt = pred >= 0.5\n",
        "\n",
        "pred_result = [np.argmax(pred[i]) for i in range(len(pred))]\n",
        "len(pred_result)\n",
        "\n",
        "\n",
        "print(\"accuracy: {:.3f}\".format(accuracy_score(df_bert_test1['labels'],pred_result)))\n",
        "# print(\"f1_score \\n\",f1_score(df_bert_test1['labels'],pred_result))\n",
        "print(\"confusion matrix \\n\",confusion_matrix(df_bert_test1['labels'],pred_result))\n",
        "print('classification report \\n', classification_report(df_bert_test1['labels'], pred_result, target_names = ['0 없음','1 강아지','2 고양이','3 강아지 + 고양이']))"
      ],
      "metadata": {
        "colab": {
          "base_uri": "https://localhost:8080/"
        },
        "id": "ieLEAOIIVRg3",
        "outputId": "4e48ca11-c210-4b5f-d80c-42a6e3c8769d"
      },
      "execution_count": null,
      "outputs": [
        {
          "output_type": "stream",
          "name": "stdout",
          "text": [
            "accuracy: 0.140\n",
            "confusion matrix \n",
            " [[1376   20  285  278]\n",
            " [ 117  223   96 9564]\n",
            " [ 195   42 1480 8283]\n",
            " [   0    0    0    0]]\n",
            "classification report \n",
            "               precision    recall  f1-score   support\n",
            "\n",
            "        0 없음       0.82      0.70      0.75      1959\n",
            "       1 강아지       0.78      0.02      0.04     10000\n",
            "       2 고양이       0.80      0.15      0.25     10000\n",
            " 3 강아지 + 고양이       0.00      0.00      0.00         0\n",
            "\n",
            "    accuracy                           0.14     21959\n",
            "   macro avg       0.60      0.22      0.26     21959\n",
            "weighted avg       0.79      0.14      0.20     21959\n",
            "\n"
          ]
        }
      ]
    },
    {
      "cell_type": "markdown",
      "source": [
        "### 최종 카테고리 분류 진행\n",
        "\n",
        "위에서 학습한 내용으로 예측을 하여 자동으로 반려동물 유무 카테고리 라벨링을 한다."
      ],
      "metadata": {
        "id": "aIMUOmgChh4C"
      }
    },
    {
      "cell_type": "code",
      "source": [
        "X_df= tokenizer(\n",
        "    text = df['Text'].to_list(),\n",
        "    add_special_tokens=True,\n",
        "    max_length = 128,\n",
        "    truncation = True,\n",
        "    padding = True,\n",
        "    return_tensors='tf',\n",
        "    return_token_type_ids=False,\n",
        "    # returen_attention_mask=False,\n",
        "    verbose = True\n",
        ")\n",
        "pred_df = model.predict(X_df['input_ids'])\n",
        "pred_result_df = [np.argmax(pred_df[i]) for i in range(len(pred_df))]\n"
      ],
      "metadata": {
        "id": "L7Rja_zjhhfH"
      },
      "execution_count": null,
      "outputs": []
    },
    {
      "cell_type": "code",
      "source": [
        "plt.bar(df['pet'].value_counts().index, df['pet'].value_counts().values)\n",
        "plt.xticks(df['pet'].value_counts().index, ['No pet','Cat','Dog'])\n",
        "plt.show();\n"
      ],
      "metadata": {
        "colab": {
          "base_uri": "https://localhost:8080/",
          "height": 265
        },
        "id": "ied3APM8Q7XT",
        "outputId": "b7e1256c-e502-47c3-e417-06ed24bc8ffd"
      },
      "execution_count": null,
      "outputs": [
        {
          "output_type": "display_data",
          "data": {
            "image/png": "[encoded data removed]",
            "text/plain": [
              "<Figure size 432x288 with 1 Axes>"
            ]
          },
          "metadata": {
            "needs_background": "light"
          }
        }
      ]
    },
    {
      "cell_type": "code",
      "source": [
        "df['pet'].value_counts()"
      ],
      "metadata": {
        "id": "0n8RdRvhy-8x",
        "outputId": "466b569f-0684-4a08-eac1-8de6e65fc78a",
        "colab": {
          "base_uri": "https://localhost:8080/"
        }
      },
      "execution_count": null,
      "outputs": [
        {
          "output_type": "execute_result",
          "data": {
            "text/plain": [
              "0    415653\n",
              "2     87166\n",
              "1     65635\n",
              "Name: pet, dtype: int64"
            ]
          },
          "metadata": {},
          "execution_count": 79
        }
      ]
    },
    {
      "cell_type": "markdown",
      "source": [
        "### * 문맥을 통한 고객 집단 분류모델 학습 결과:  \n",
        "  * 학습시 under sampling이 SMOTE보다 성능이 좋으며, accuracy 90% 이상의 준수한 성능을 보임\n",
        "  * 모델 predict를 통해 자동으로 라벨링 작업을 진행할 수 있음 \n",
        "\n"
      ],
      "metadata": {
        "id": "yCnEsEtAy2OU"
      }
    },
    {
      "cell_type": "markdown",
      "source": [
        "\n",
        "### * 문제 및 개선점:\n",
        "  * 1차 학습시 86%, 2차 학습시 95% 성능을 보였지만, 강아지와 고양이 둘 다 키우는 고객을 분류하는 작업은 accuracy 0으로 전혀 분류진행이 되지 않음. 초기 학습때 undersampling을 했지만, 1(dog)과 2(cat)에 대한 패턴과 상당히 유사해 그 차이를 파악하지 못한것으로 파악.\n",
        "    - 3번 카테고리를 없애거나 카테고리를 통합해 지도학습 진행 시 학습량 자체를 높여야 한다.\n",
        "    \n",
        "  * 1차 키워드 추출시에는 고양이관련 고객이 강아지관련 유저보다 적었지만, 2차 추출 모델링 이후엔 고양이 관련 유저가 급격히 늘게 됨  \n",
        "  * 고양이를 키우지 않는 많은 고객들에게 추천할 확률이 높으므로 개선 필요:\n",
        "\n",
        "    - 텍스트 전처리를 더 정교하게 진행하여 좀 더 성능을 높여본다.\n"
      ],
      "metadata": {
        "id": "6mB0XX4fidh0"
      }
    }
  ]
}