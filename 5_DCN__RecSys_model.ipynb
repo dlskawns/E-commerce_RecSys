{
  "nbformat": 4,
  "nbformat_minor": 0,
  "metadata": {
    "colab": {
      "name": "DCN_ RecSys_model.ipynb",
      "provenance": [],
      "toc_visible": true,
      "authorship_tag": "ABX9TyNyH5t3XaBo87QNke2QuOGj",
      "include_colab_link": true
    },
    "kernelspec": {
      "name": "python3",
      "display_name": "Python 3"
    },
    "language_info": {
      "name": "python"
    }
  },
  "cells": [
    {
      "cell_type": "markdown",
      "metadata": {
        "id": "view-in-github",
        "colab_type": "text"
      },
      "source": [
        "<a href=\"https://colab.research.google.com/github/dlskawns/cp1/blob/main/5_DCN__RecSys_model.ipynb\" target=\"_parent\"><img src=\"https://colab.research.google.com/assets/colab-badge.svg\" alt=\"Open In Colab\"/></a>"
      ]
    },
    {
      "cell_type": "markdown",
      "source": [
        "# 5. 특성을 활용한 딥러닝 기반 추천 시스템 모델\n"
      ],
      "metadata": {
        "id": "-_1R3DiefjM3"
      }
    },
    {
      "cell_type": "markdown",
      "source": [
        "## DCN - Deep Cross NET 이용 \n",
        "\n",
        "CTR(클릭률)에 활용되는 모델로 다양한 특성들의 조합을 고려할 수 있는 모델"
      ],
      "metadata": {
        "id": "6Wx6wA8Hfxgu"
      }
    },
    {
      "cell_type": "code",
      "source": [
        ""
      ],
      "metadata": {
        "id": "4fFoM-92gEXq"
      },
      "execution_count": null,
      "outputs": []
    },
    {
      "cell_type": "markdown",
      "source": [
        "### * 선정 이유:  \n",
        "유저특성, 상품특성을 인풋데이터로 넣어 Embedding, Cross, DNN Layer로 이어지는 Stacked 구조의 모델을 거쳐  \n",
        "각 feature의 조합에 따라 라벨을 예측하는 지도학습을 진행하기 위함.\n"
      ],
      "metadata": {
        "id": "GGVKFIPIgmDj"
      }
    },
    {
      "cell_type": "markdown",
      "source": [
        "### * 가설:  \n",
        "Deep Cross Net의 구조를 이용해 모델을 설계하면, 인풋 데이터의 모든 Feature들에 대한 특성을 고려해 학습 및 예측이 가능할 것이다.\n"
      ],
      "metadata": {
        "id": "pubBJ8glgors"
      }
    },
    {
      "cell_type": "markdown",
      "source": [
        "### * 방법:  \n",
        "* 인풋 데이터\n",
        "  * Score를 바탕으로 학습 및 예측(추천)하기 위한 label 생성\n",
        "    * 전체 평균 Score(4.18)에 따라 labelling -> 4점 이하 = 0, 5점 = 1\n",
        "  * UserId, ItemId뿐 아니라 유저특성, 상품특성을 Embedding Layer의 인풋데이터로 넣는다.\n",
        "  * 추천 시스템을 고려해서 학습 특성 선택\n",
        "* 모델 아키텍쳐\n",
        "  * 인풋 데이터의 각 특성 별로 Embedding Layer를 작성해넣고, 이를 concat하여 합쳐준다.\n",
        "  * Cross Layer를 작성한 뒤, Embedding Layer의 아웃풋을 인풋으로 통과한다.\n",
        "  * Deep Layer를 작성한 뒤, Cross Layer의 아웃풋을 인풋으로 넣어 최종 분류기(binary-sigmoid)를 통과시킨다.\n",
        "  * metric = BinaryAccuracy\n",
        "* 추천 모듈(recommendation)\n",
        "  * UserId 입력시 users(유저 룩업테이블)에서 DCN 모델 predict 진행을 위한 feature 정보를 가져온다. (UserId, 리뷰 수, 반려동물 유무)\n",
        "  * items(상품 룩업테이블)의 상품에 대한 label을 예측한다.\n",
        "  * 예측 완료 후 높은 순위의 확률을 가진 10개 상품을 노출시킨다.\n",
        "\n",
        "  <br>\n",
        "\n",
        "  ---"
      ],
      "metadata": {
        "id": "8kTcPBOzgru8"
      }
    },
    {
      "cell_type": "markdown",
      "source": [
        "### 필요 모듈 가져오기 "
      ],
      "metadata": {
        "id": "cXryAfV40zMI"
      }
    },
    {
      "cell_type": "code",
      "source": [
        "!pip install -q tensorflow-recommenders"
      ],
      "metadata": {
        "colab": {
          "base_uri": "https://localhost:8080/"
        },
        "outputId": "59e9eb51-e5ed-41c9-cc03-abc0ed37f176",
        "id": "uC6xY2MJqPFf"
      },
      "execution_count": null,
      "outputs": [
        {
          "output_type": "stream",
          "name": "stdout",
          "text": [
            "\u001b[?25l\r\u001b[K     |███▉                            | 10 kB 23.8 MB/s eta 0:00:01\r\u001b[K     |███████▋                        | 20 kB 10.2 MB/s eta 0:00:01\r\u001b[K     |███████████▌                    | 30 kB 6.8 MB/s eta 0:00:01\r\u001b[K     |███████████████▎                | 40 kB 3.6 MB/s eta 0:00:01\r\u001b[K     |███████████████████             | 51 kB 4.2 MB/s eta 0:00:01\r\u001b[K     |███████████████████████         | 61 kB 4.5 MB/s eta 0:00:01\r\u001b[K     |██████████████████████████▊     | 71 kB 4.4 MB/s eta 0:00:01\r\u001b[K     |██████████████████████████████▌ | 81 kB 5.0 MB/s eta 0:00:01\r\u001b[K     |████████████████████████████████| 85 kB 2.9 MB/s \n",
            "\u001b[?25h"
          ]
        }
      ]
    },
    {
      "cell_type": "code",
      "source": [
        "import os\n",
        "import sys\n",
        "import gc\n",
        "import glob\n",
        "import joblib\n",
        "from google.colab import drive\n",
        "from tqdm import tqdm\n",
        "\n",
        "import numpy as np\n",
        "import pandas as pd\n",
        "\n",
        "import keras\n",
        "import tensorflow as tf\n",
        "import tensorflow_recommenders as tfrs\n",
        "\n",
        "from tensorflow.keras.losses import binary_crossentropy\n",
        "from tensorflow.keras import backend as K\n",
        "from tensorflow.keras.layers import Lambda, Input, Dense, Dropout\n",
        "from tensorflow.keras.models import Model\n",
        "from tensorflow.keras.callbacks import LambdaCallback, EarlyStopping, Callback\n",
        "from tensorflow.keras.utils import plot_model\n",
        "\n",
        "from sklearn.metrics import roc_auc_score\n",
        "from sklearn.metrics import classification_report, confusion_matrix\n",
        "import tensorflow_datasets as tfds\n",
        "import pandas as pd"
      ],
      "metadata": {
        "id": "YDIW5MPUqJjd"
      },
      "execution_count": null,
      "outputs": []
    },
    {
      "cell_type": "markdown",
      "source": [
        "### 데이터 불러오기\n",
        "\n",
        "* 구글 드라이브의 폴더 및 파일을 접근하기 위해 마운트 합니다."
      ],
      "metadata": {
        "id": "NZntOCt60Ltx"
      }
    },
    {
      "cell_type": "code",
      "execution_count": null,
      "metadata": {
        "colab": {
          "base_uri": "https://localhost:8080/"
        },
        "id": "tnysA2fvGJuo",
        "outputId": "b65e1381-d365-4f03-a269-6da18f084dd1"
      },
      "outputs": [
        {
          "output_type": "stream",
          "name": "stdout",
          "text": [
            "Mounted at /content/drive\n"
          ]
        }
      ],
      "source": [
        "drive.mount('/content/drive')"
      ]
    },
    {
      "cell_type": "code",
      "source": [
        "import pickle\n",
        "\n",
        "with open('/content/drive/MyDrive/cp1_data.pkl', 'rb') as f:\n",
        "  df = pickle.load(f)"
      ],
      "metadata": {
        "id": "RUJnunkXr0-a"
      },
      "execution_count": null,
      "outputs": []
    },
    {
      "cell_type": "markdown",
      "source": [
        "### 학습 데이터 설정하기"
      ],
      "metadata": {
        "id": "EmExOiHbqp4I"
      }
    },
    {
      "cell_type": "markdown",
      "source": [
        "#### 학습 진행을 위한 샘플 별 label 값 설정\n",
        "\n",
        "* 유저의 평점(Score)의 평균값 = 4.16  \n",
        "* 전체 평점의 평균값 = 4.18  \n",
        "ㄴ> 전체적으로 5점 분포가 가장 높기 때문에 4점 이하를 label 0, 5점을 label 1로 설정하여 진행"
      ],
      "metadata": {
        "id": "-KlxZjafquA0"
      }
    },
    {
      "cell_type": "code",
      "source": [
        "df.groupby('ProductId')['Score'].mean().mean()  # 상품별 평균 평점의 평균"
      ],
      "metadata": {
        "colab": {
          "base_uri": "https://localhost:8080/"
        },
        "id": "0oO35uaGq5Tl",
        "outputId": "cb043c02-5b9c-4819-8f70-7ce73a5ae3cb"
      },
      "execution_count": null,
      "outputs": [
        {
          "output_type": "execute_result",
          "data": {
            "text/plain": [
              "4.1661890814501445"
            ]
          },
          "metadata": {},
          "execution_count": 32
        }
      ]
    },
    {
      "cell_type": "code",
      "source": [
        "df['Score'].mean()  # 상품 리뷰 샘플 전체의 평균"
      ],
      "metadata": {
        "id": "yAoc52VNryyB"
      },
      "execution_count": null,
      "outputs": []
    },
    {
      "cell_type": "code",
      "source": [
        "# New labeling\n",
        "label = []\n",
        "for i in df['Score']:\n",
        "  if i >4:\n",
        "    label.append(1)\n",
        "  else:\n",
        "    label.append(0)\n",
        "df['label'] = label"
      ],
      "metadata": {
        "id": "x5fgTo0aE_Mj"
      },
      "execution_count": null,
      "outputs": []
    },
    {
      "cell_type": "code",
      "source": [
        "# pet label을 str으로 바꿔줌\n",
        "for i in range(len(df['pet'])):\n",
        "  if df['pet'][i] == 0:\n",
        "    df['pet'][i] = 'no'\n",
        "  elif df['pet'][i] == 1:\n",
        "    df['pet'] = 'dog'\n",
        "  elif df['pet'][i] == 2:\n",
        "    df['pet'] = 'cat'"
      ],
      "metadata": {
        "id": "h4nLD8soEXRY"
      },
      "execution_count": null,
      "outputs": []
    },
    {
      "cell_type": "markdown",
      "source": [
        "#### Model Input 값 및 User, Item feature 테이블 설정\n",
        "\n",
        "* 필요 특성을 미리 데이터셋에 추가해준다.\n",
        "* 추후 추천 진행을 위해 유저 및 상품의 고유한 특성 목록을 생성한다.\n",
        "\n",
        "  * 유저 Features: \n",
        "    * UserId(고객ID) \n",
        "    * r_counts(유저의 리뷰 총 개수)\n",
        "    * pet(반려동물 유무)\n",
        "  * 상품 Features: \n",
        "    * ProductId(상품ID)\n",
        "    * r_counts_pro(상품의 리뷰 개수)\n",
        "    * review_len_average(상품 리뷰의 평균 길이)\n",
        "\n",
        "\n"
      ],
      "metadata": {
        "id": "ngqZzjRZvHlb"
      }
    },
    {
      "cell_type": "code",
      "source": [
        "# 리뷰 길이 feature 생성\n",
        "df['review_len'] = df['Text'].apply(lambda x : len(x))"
      ],
      "metadata": {
        "id": "fpog3ooP31bn"
      },
      "execution_count": null,
      "outputs": []
    },
    {
      "cell_type": "code",
      "source": [
        "# 추천 및 학습을 위한 상품feature 테이블 생성\n",
        "item_c = pd.DataFrame(df['ProductId'].value_counts()).reset_index().rename(columns = {'ProductId': 'r_counts_pro','index':'ProductId'})\n",
        "item_m = pd.DataFrame(df.groupby('ProductId')['review_len'].mean()).reset_index()\n",
        "items = item_c.merge(item_m, 'left',on = 'ProductId').rename(columns={'review_len':'review_len_average'})\n",
        "df = df.merge(items, 'left', on = 'ProductId')"
      ],
      "metadata": {
        "id": "pZTICu1TEXRY"
      },
      "execution_count": null,
      "outputs": []
    },
    {
      "cell_type": "code",
      "source": [
        "# 추천 및 학습을 위한 유저feature 테이블 생성\n",
        "users = df[['UserId','r_counts','pet']]\n",
        "users = users.drop_duplicates()"
      ],
      "metadata": {
        "id": "fX_13xdUL0jZ"
      },
      "execution_count": null,
      "outputs": []
    },
    {
      "cell_type": "markdown",
      "source": [
        "#### 모델 컴퓨팅 클래스 작성"
      ],
      "metadata": {
        "id": "lTV9aocKrpo2"
      }
    },
    {
      "cell_type": "code",
      "execution_count": null,
      "metadata": {
        "id": "BGvIRvv9EXRZ"
      },
      "outputs": [],
      "source": [
        "class model(tfrs.Model):\n",
        "    \"\"\"\n",
        "    model class로 tfrs.Model을 상속해 call함수를 통해 모델 아키텍쳐 생성 \n",
        "\n",
        "    \"\"\"\n",
        "\n",
        "\n",
        "    def __init__(self, deep_layer_sizes, learning_rate, str_features, int_features, vocabularies, projection_dim = None, metric = 'binary'):\n",
        "        super().__init__()\n",
        "    \n",
        "        self.embedding_dimension = 64\n",
        "    \n",
        "        self._all_features = str_features + int_features\n",
        "        self._embeddings = {}\n",
        "    \n",
        "        # Compute embeddings for string features.\n",
        "        for feature_name in str_features:\n",
        "            vocabulary = vocabularies[feature_name]\n",
        "            self._embeddings[feature_name] = tf.keras.Sequential(\n",
        "                [tf.keras.layers.experimental.preprocessing.StringLookup(\n",
        "                    vocabulary=vocabulary, mask_token=None),\n",
        "                    tf.keras.layers.Embedding(len(vocabulary) + 1,\n",
        "                    self.embedding_dimension)])\n",
        "          \n",
        "    \n",
        "        # Compute embeddings for int features.\n",
        "        for feature_name in int_features:\n",
        "            vocabulary = vocabularies[feature_name]\n",
        "            self._embeddings[feature_name] = tf.keras.Sequential(\n",
        "                [tf.keras.layers.experimental.preprocessing.IntegerLookup(\n",
        "                    vocabulary=vocabulary, mask_value=None),\n",
        "                    tf.keras.layers.Embedding(len(vocabulary) + 1,self.embedding_dimension)])\n",
        "        \n",
        "        # Cross layer\n",
        "\n",
        "        self._cross_layer = tfrs.layers.dcn.Cross(\n",
        "            projection_dim = projection_dim,\n",
        "            kernel_initializer = \"glorot_uniform\") \n",
        "            \n",
        "        # Deep layer\n",
        "        self._deep_layers = [tf.keras.layers.Dense(layer_size, activation=\"relu\")\n",
        "            for layer_size in deep_layer_sizes]\n",
        "        \n",
        "        # Output layer\n",
        "        self._logit_layer = tf.keras.layers.Dense(1,activation = 'sigmoid')\n",
        "        # Metric\n",
        "        if metric == 'binary':\n",
        "            self.task = tfrs.tasks.Ranking(\n",
        "            loss = tf.keras.losses.BinaryCrossentropy(),\n",
        "            metrics=[\n",
        "                    tf.keras.metrics.BinaryAccuracy(name='binary_accuracy', dtype = None, threshold = 0.5)])\n",
        "    \n",
        "    def call(self, features):\n",
        "        # Concatenate embeddings\n",
        "        embeddings = []\n",
        "        for feature_name in self._all_features:\n",
        "            embedding_fn = self._embeddings[feature_name]\n",
        "            embeddings.append(embedding_fn(features[feature_name]))\n",
        "    \n",
        "        x = tf.concat(embeddings, axis=1)\n",
        "    \n",
        "        # Build Cross Network\n",
        "        cross_layer = self._cross_layer:\n",
        "        x = cross_layer(x)\n",
        "        \n",
        "        # Build Deep Network\n",
        "        for deep_layer in self._deep_layers:\n",
        "            x = deep_layer(x)\n",
        "\n",
        "        return self._logit_layer(x)\n",
        "    \n",
        "    def compute_loss(self, features, training=False, metric = 'binary'):\n",
        "        if metric == 'binary':\n",
        "            labels = features.pop(\"label\")\n",
        "        scores = self(features)\n",
        "    \n",
        "        return self.task(labels=labels,predictions=scores)"
      ]
    },
    {
      "cell_type": "markdown",
      "source": [
        "#### 모델 인풋값 전처리 함수 작성"
      ],
      "metadata": {
        "id": "IDAGVODntxoY"
      }
    },
    {
      "cell_type": "code",
      "source": [
        "import os\n",
        "import sys\n",
        "import gc\n",
        "import glob\n",
        "import joblib\n",
        "from tqdm import tqdm\n",
        "\n",
        "import ast\n",
        "import numpy as np\n",
        "import pandas as pd\n",
        "\n",
        "import keras\n",
        "import tensorflow as tf\n",
        "\n",
        "\n",
        "def DCN(df, str_features, int_features, df_type = 'train'):\n",
        "\"\"\"\n",
        "인풋값을 만들기 위한 함수.\n",
        "train용과 test용으로 나뉘어져있음.\n",
        "\"\"\"\n",
        "\n",
        "    feature_names = str_features + int_features\n",
        "\n",
        "    # feature type 변경\n",
        "    def setType(df):\n",
        "        for f in str_features:\n",
        "            if df[f].dtype == float:\n",
        "                df[f] = df[f].astype(int)\n",
        "\n",
        "        for f in int_features:\n",
        "            df[f] = df[f].astype(int)\n",
        "            \n",
        "        return df\n",
        "  \n",
        "    # 데이터 dict로 변환\n",
        "    def generateDict(df):\n",
        "        # str features는 encoding\n",
        "        train_str_dict = {str_feature: [str(val).encode() for val in df[str_feature].values]for str_feature in str_features}\n",
        "        # int features는 int\n",
        "        train_int_dict = {int_feature: df[int_feature].valuesfor int_feature in int_features}\n",
        "\n",
        "        # # label columns이 있다면~\n",
        "        try:\n",
        "            train_label_dict = {'label' : df['label'].values}\n",
        "            train_str_dict.update(train_label_dict)\n",
        "        except:\n",
        "            pass\n",
        "\n",
        "        train_str_dict.update(train_int_dict)\n",
        "        return train_str_dict\n",
        "\n",
        "\n",
        "    df_copy = setType(df)\n",
        "    input_dict = generateDict(df_copy)\n",
        "\n",
        "    # tensor\n",
        "    tensor = tf.data.Dataset.from_tensor_slices(input_dict)\n",
        "    cached = tensor.shuffle(100_000).batch(8192).cache()\n",
        "    # unique data 저장\n",
        "    # train data 일 때, \n",
        "    if df_type == 'train':\n",
        "        vocabularies = {}\n",
        "    \n",
        "        for feature_name in tqdm(feature_names):\n",
        "            vocab = tensor.batch(1_000_000).map(lambda x: x[feature_name])\n",
        "            vocabularies[feature_name] = np.unique(np.concatenate(list(vocab)))\n",
        "    \n",
        "        return cached, vocabularies\n",
        "      \n",
        "      # test data 일 때, \n",
        "    else:\n",
        "        return cached"
      ],
      "metadata": {
        "id": "cuA-evbkEXRZ"
      },
      "execution_count": null,
      "outputs": []
    },
    {
      "cell_type": "code",
      "source": [
        "# Input feature 설정\n",
        "str_features = ['ProductId','UserId','pet'] # 부득이 keyword를 넣지 못함 \n",
        "int_features = ['r_counts','r_counts_pro','review_len_average']\n",
        "label_feature=[\"label\"]\n",
        "feature_names = str_features + int_features + label_feature"
      ],
      "metadata": {
        "id": "Qsp4Q-YiEXRa"
      },
      "execution_count": null,
      "outputs": []
    },
    {
      "cell_type": "code",
      "source": [
        "df2 = df.copy()\n",
        "df2 = df.sample(frac=1) # 샘플 순서를 섞어준다."
      ],
      "metadata": {
        "id": "YDTFE_l3EXRa"
      },
      "execution_count": null,
      "outputs": []
    },
    {
      "cell_type": "code",
      "source": [
        "from sklearn.model_selection import train_test_split\n",
        "\n",
        "# 학습, 검증 셋 설정\n",
        "train, val = train_test_split(df2, test_size = 0.2, random_state = 2)\n",
        "val, test = train_test_split(val, test_size = 0.2, random_state = 2)"
      ],
      "metadata": {
        "id": "1oid845uEXRa"
      },
      "execution_count": null,
      "outputs": []
    },
    {
      "cell_type": "code",
      "source": [
        "# 라벨 1, 라벨 0 의 분포 확인\n",
        "train.label.value_counts()"
      ],
      "metadata": {
        "colab": {
          "base_uri": "https://localhost:8080/"
        },
        "outputId": "831818be-d0c9-4a17-f5e7-ba216e7e8ba4",
        "id": "OREkEbvlEXRb"
      },
      "execution_count": null,
      "outputs": [
        {
          "output_type": "execute_result",
          "data": {
            "text/plain": [
              "1    290652\n",
              "0    164111\n",
              "Name: label, dtype: int64"
            ]
          },
          "metadata": {},
          "execution_count": 16
        }
      ]
    },
    {
      "cell_type": "code",
      "source": [
        "# 학습 데이터셋 label 분포에 맞춰 under sampling 진행 \n",
        "train_0 = train[train['label']==0]\n",
        "train_1= train[train['label']==1]\n",
        "train_1 =train_1.sample(frac=1)\n",
        "train_11 =train_1.iloc[:len(train_0)]\n",
        "train = pd.concat([train_0,train_11], axis=0)"
      ],
      "metadata": {
        "id": "yzGpsvJZEXRb"
      },
      "execution_count": null,
      "outputs": []
    },
    {
      "cell_type": "code",
      "source": [
        "train.label.value_counts()"
      ],
      "metadata": {
        "colab": {
          "base_uri": "https://localhost:8080/"
        },
        "outputId": "dc496b91-3ee2-4b42-a26a-b332f315598c",
        "id": "9axW7Wy-EXRb"
      },
      "execution_count": null,
      "outputs": [
        {
          "output_type": "execute_result",
          "data": {
            "text/plain": [
              "0    164157\n",
              "1    164157\n",
              "Name: label, dtype: int64"
            ]
          },
          "metadata": {},
          "execution_count": 66
        }
      ]
    },
    {
      "cell_type": "code",
      "source": [
        "# 전처리 함수를 통해 embedding용 vocab 및 학습 셋, 검증 셋 생성\n",
        "cached_train, vocabularies = DCN(train, str_features, int_features, df_type = 'train')\n",
        "cached_val = DCN(val, str_features, int_features, df_type = 'val')\n",
        "cached_test = DCN(test, str_features, int_features, df_type = 'test')"
      ],
      "metadata": {
        "id": "U-H4q_Nzbczj"
      },
      "execution_count": null,
      "outputs": []
    },
    {
      "cell_type": "markdown",
      "source": [
        "### 모델 생성 및 컴파일"
      ],
      "metadata": {
        "id": "wiAyyH_tw1xR"
      }
    },
    {
      "cell_type": "code",
      "source": [
        "learning_rate = 0.0001\n",
        "model = model(deep_layer_sizes = [512, 256, 128, 64, 32, 16,8],\n",
        "            learning_rate = learning_rate,\n",
        "            str_features = str_features,\n",
        "            int_features = int_features,\n",
        "            vocabularies = vocabularies,\n",
        "            projection_dim = None,\n",
        "            metric = 'binary'\n",
        "            )\n",
        "\n",
        "model.compile(optimizer = tf.keras.optimizers.Adam(learning_rate))"
      ],
      "metadata": {
        "colab": {
          "base_uri": "https://localhost:8080/"
        },
        "outputId": "7f017097-2f92-4e21-eb1b-5ad9f01b1e50",
        "id": "TpR2QEAsEXRd"
      },
      "execution_count": null,
      "outputs": [
        {
          "output_type": "stream",
          "name": "stdout",
          "text": [
            "WARNING:tensorflow:mask_value is deprecated, use mask_token instead.\n"
          ]
        }
      ]
    },
    {
      "cell_type": "code",
      "source": [
        "model.summary()"
      ],
      "metadata": {
        "colab": {
          "base_uri": "https://localhost:8080/"
        },
        "outputId": "ffe85eb8-0071-4db9-9dac-82f2432d20ed",
        "id": "G8-A7X34EXRc"
      },
      "execution_count": null,
      "outputs": [
        {
          "output_type": "stream",
          "name": "stdout",
          "text": [
            "Model: \"model_2\"\n",
            "_________________________________________________________________\n",
            " Layer (type)                Output Shape              Param #   \n",
            "=================================================================\n",
            " sequential_16 (Sequential)  (None, 64)                192       \n",
            "                                                                 \n",
            " sequential_12 (Sequential)  (None, 64)                3733824   \n",
            "                                                                 \n",
            " sequential_13 (Sequential)  (None, 64)                11005952  \n",
            "                                                                 \n",
            " sequential_14 (Sequential)  (None, 64)                128       \n",
            "                                                                 \n",
            " sequential_15 (Sequential)  (None, 64)                9280      \n",
            "                                                                 \n",
            " sequential_18 (Sequential)  (None, 64)                18176     \n",
            "                                                                 \n",
            " sequential_17 (Sequential)  (None, 64)                225216    \n",
            "                                                                 \n",
            " sequential_19 (Sequential)  (None, 64)                118016    \n",
            "                                                                 \n",
            " cross_5 (Cross)             multiple                  262656    \n",
            "                                                                 \n",
            " cross_6 (Cross)             multiple                  262656    \n",
            "                                                                 \n",
            " cross_7 (Cross)             multiple                  262656    \n",
            "                                                                 \n",
            " dense_10 (Dense)            multiple                  262656    \n",
            "                                                                 \n",
            " dense_11 (Dense)            multiple                  131328    \n",
            "                                                                 \n",
            " dense_12 (Dense)            multiple                  32896     \n",
            "                                                                 \n",
            " dense_13 (Dense)            multiple                  8256      \n",
            "                                                                 \n",
            " dense_14 (Dense)            multiple                  65        \n",
            "                                                                 \n",
            " ranking_2 (Ranking)         multiple                  0         \n",
            "                                                                 \n",
            "=================================================================\n",
            "Total params: 16,333,953\n",
            "Trainable params: 16,333,953\n",
            "Non-trainable params: 0\n",
            "_________________________________________________________________\n"
          ]
        }
      ]
    },
    {
      "cell_type": "code",
      "source": [
        "import keras\n",
        "callbacks_list = [\n",
        "                  keras.callbacks.EarlyStopping(\n",
        "                      monitor = 'val_loss',\n",
        "                      patience = 5\n",
        "                      )]"
      ],
      "metadata": {
        "id": "ru1VFgkCEXRd"
      },
      "execution_count": null,
      "outputs": []
    },
    {
      "cell_type": "markdown",
      "source": [
        "#### 모델 학습"
      ],
      "metadata": {
        "id": "TF_YWvE5xN8f"
      }
    },
    {
      "cell_type": "code",
      "source": [
        "history0 = model.fit(cached_train,\n",
        "                     epochs = 40,\n",
        "                     callbacks = callbacks_list,\n",
        "                     verbose = True, validation_data = cached_val)"
      ],
      "metadata": {
        "colab": {
          "base_uri": "https://localhost:8080/"
        },
        "id": "WwYJ6FL78UGj",
        "outputId": "b0a1cc00-586f-494c-9dd2-8ac5dad97afb"
      },
      "execution_count": null,
      "outputs": [
        {
          "output_type": "stream",
          "name": "stdout",
          "text": [
            "Epoch 1/40\n",
            "41/41 [==============================] - 1s 28ms/step - binary_accuracy: 0.4934 - loss: 0.6989 - regularization_loss: 0.0000e+00 - total_loss: 0.6989 - val_binary_accuracy: 0.3607 - val_loss: 0.6956 - val_regularization_loss: 0.0000e+00 - val_total_loss: 0.6956\n",
            "Epoch 2/40\n",
            "41/41 [==============================] - 1s 23ms/step - binary_accuracy: 0.4931 - loss: 0.6963 - regularization_loss: 0.0000e+00 - total_loss: 0.6963 - val_binary_accuracy: 0.3607 - val_loss: 0.6946 - val_regularization_loss: 0.0000e+00 - val_total_loss: 0.6946\n",
            "Epoch 3/40\n",
            "41/41 [==============================] - 1s 23ms/step - binary_accuracy: 0.4934 - loss: 0.6946 - regularization_loss: 0.0000e+00 - total_loss: 0.6946 - val_binary_accuracy: 0.3607 - val_loss: 0.6940 - val_regularization_loss: 0.0000e+00 - val_total_loss: 0.6940\n",
            "Epoch 4/40\n",
            "41/41 [==============================] - 1s 23ms/step - binary_accuracy: 0.4934 - loss: 0.6942 - regularization_loss: 0.0000e+00 - total_loss: 0.6942 - val_binary_accuracy: 0.3611 - val_loss: 0.6936 - val_regularization_loss: 0.0000e+00 - val_total_loss: 0.6936\n",
            "Epoch 5/40\n",
            "41/41 [==============================] - 1s 23ms/step - binary_accuracy: 0.4935 - loss: 0.6937 - regularization_loss: 0.0000e+00 - total_loss: 0.6937 - val_binary_accuracy: 0.3656 - val_loss: 0.6931 - val_regularization_loss: 0.0000e+00 - val_total_loss: 0.6931\n",
            "Epoch 6/40\n",
            "41/41 [==============================] - 1s 23ms/step - binary_accuracy: 0.4935 - loss: 0.6933 - regularization_loss: 0.0000e+00 - total_loss: 0.6933 - val_binary_accuracy: 0.4129 - val_loss: 0.6924 - val_regularization_loss: 0.0000e+00 - val_total_loss: 0.6924\n",
            "Epoch 7/40\n",
            "41/41 [==============================] - 1s 23ms/step - binary_accuracy: 0.4846 - loss: 0.6925 - regularization_loss: 0.0000e+00 - total_loss: 0.6925 - val_binary_accuracy: 0.5672 - val_loss: 0.6909 - val_regularization_loss: 0.0000e+00 - val_total_loss: 0.6909\n",
            "Epoch 8/40\n",
            "41/41 [==============================] - 1s 22ms/step - binary_accuracy: 0.4842 - loss: 0.6898 - regularization_loss: 0.0000e+00 - total_loss: 0.6898 - val_binary_accuracy: 0.6740 - val_loss: 0.6864 - val_regularization_loss: 0.0000e+00 - val_total_loss: 0.6864\n",
            "Epoch 9/40\n",
            "41/41 [==============================] - 1s 23ms/step - binary_accuracy: 0.5662 - loss: 0.6790 - regularization_loss: 0.0000e+00 - total_loss: 0.6790 - val_binary_accuracy: 0.7121 - val_loss: 0.6717 - val_regularization_loss: 0.0000e+00 - val_total_loss: 0.6717\n",
            "Epoch 10/40\n",
            "41/41 [==============================] - 1s 23ms/step - binary_accuracy: 0.6890 - loss: 0.6391 - regularization_loss: 0.0000e+00 - total_loss: 0.6391 - val_binary_accuracy: 0.7389 - val_loss: 0.6433 - val_regularization_loss: 0.0000e+00 - val_total_loss: 0.6433\n",
            "Epoch 11/40\n",
            "41/41 [==============================] - 1s 23ms/step - binary_accuracy: 0.7995 - loss: 0.5604 - regularization_loss: 0.0000e+00 - total_loss: 0.5604 - val_binary_accuracy: 0.7549 - val_loss: 0.5979 - val_regularization_loss: 0.0000e+00 - val_total_loss: 0.5979\n",
            "Epoch 12/40\n",
            "41/41 [==============================] - 1s 22ms/step - binary_accuracy: 0.8470 - loss: 0.4268 - regularization_loss: 0.0000e+00 - total_loss: 0.4268 - val_binary_accuracy: 0.7613 - val_loss: 0.5231 - val_regularization_loss: 0.0000e+00 - val_total_loss: 0.5231\n",
            "Epoch 13/40\n",
            "41/41 [==============================] - 1s 23ms/step - binary_accuracy: 0.8627 - loss: 0.3325 - regularization_loss: 0.0000e+00 - total_loss: 0.3325 - val_binary_accuracy: 0.7664 - val_loss: 0.5274 - val_regularization_loss: 0.0000e+00 - val_total_loss: 0.5274\n",
            "Epoch 14/40\n",
            "41/41 [==============================] - 1s 23ms/step - binary_accuracy: 0.9072 - loss: 0.2367 - regularization_loss: 0.0000e+00 - total_loss: 0.2367 - val_binary_accuracy: 0.7627 - val_loss: 0.5807 - val_regularization_loss: 0.0000e+00 - val_total_loss: 0.5807\n",
            "Epoch 15/40\n",
            "41/41 [==============================] - 1s 23ms/step - binary_accuracy: 0.9329 - loss: 0.1742 - regularization_loss: 0.0000e+00 - total_loss: 0.1742 - val_binary_accuracy: 0.7481 - val_loss: 0.6881 - val_regularization_loss: 0.0000e+00 - val_total_loss: 0.6881\n",
            "Epoch 16/40\n",
            "41/41 [==============================] - 1s 23ms/step - binary_accuracy: 0.9476 - loss: 0.1351 - regularization_loss: 0.0000e+00 - total_loss: 0.1351 - val_binary_accuracy: 0.7511 - val_loss: 0.7200 - val_regularization_loss: 0.0000e+00 - val_total_loss: 0.7200\n",
            "Epoch 17/40\n",
            "41/41 [==============================] - 1s 23ms/step - binary_accuracy: 0.9539 - loss: 0.1214 - regularization_loss: 0.0000e+00 - total_loss: 0.1214 - val_binary_accuracy: 0.7505 - val_loss: 0.7802 - val_regularization_loss: 0.0000e+00 - val_total_loss: 0.7802\n"
          ]
        }
      ]
    },
    {
      "cell_type": "markdown",
      "source": [
        "#### 평가 및 추천 진행 함수 작성"
      ],
      "metadata": {
        "id": "sqgxoA_vxGDn"
      }
    },
    {
      "cell_type": "code",
      "source": [
        "def getResult(model, cached_test, metric = 'binary'):\n",
        "    \n",
        "    cached_test_numpy = tfds.as_numpy(cached_test)\n",
        "    y_true = [item['label'] for item in cached_test_numpy]\n",
        "    y_true = np.concatenate(y_true)\n",
        "\n",
        "    y_pred = model.predict(cached_test).flatten()\n",
        "\n",
        "    if metric == 'binary':\n",
        "        y_pred_class = [1 if pred > 0.5 else 0 for pred in y_pred]\n",
        "\n",
        "    print(f\"confusion: {confusion_matrix(y_true, y_pred_class)}\")\n",
        "    print(classification_report(y_true, y_pred_class))\n",
        "\n",
        "\n",
        "def recommendation(userID, model,users, items, str_features, int_features):\n",
        "    items_copy = items.copy()\n",
        "    items_copy['UserId'] = userID\n",
        "    items_copy = items_copy.merge(users, 'left', on= 'UserId')\n",
        "    \n",
        "    cached = DCN(items_copy, str_features, int_features, df_type = 'test')\n",
        "    p = model.predict(cached)\n",
        "    items_copy['prob'] = p\n",
        "    items_copy = items_copy.sort_values(by = 'prob', ascending = False).reset_index()\n",
        "    rec_lst = items_copy.head(10)['ProductId'].values\n",
        "\n",
        "\n",
        "    return rec_lst"
      ],
      "metadata": {
        "id": "1PBPvnyoOEze"
      },
      "execution_count": null,
      "outputs": []
    },
    {
      "cell_type": "code",
      "source": [
        "model.evaluate(cached_val)"
      ],
      "metadata": {
        "colab": {
          "base_uri": "https://localhost:8080/"
        },
        "outputId": "e1e26e60-7cdd-4d29-cb54-d3660f6e00ec",
        "id": "dVZUREZZ8i2v"
      },
      "execution_count": null,
      "outputs": [
        {
          "output_type": "stream",
          "name": "stdout",
          "text": [
            "12/12 [==============================] - 0s 7ms/step - binary_accuracy: 0.7505 - loss: 0.7936 - regularization_loss: 0.0000e+00 - total_loss: 0.7936\n"
          ]
        },
        {
          "output_type": "execute_result",
          "data": {
            "text/plain": [
              "[0.7505112290382385, 0.7801525592803955, 0, 0.7801525592803955]"
            ]
          },
          "metadata": {},
          "execution_count": 90
        }
      ]
    },
    {
      "cell_type": "code",
      "source": [
        "getResult(model, cached_test, metric = 'binary')"
      ],
      "metadata": {
        "colab": {
          "base_uri": "https://localhost:8080/"
        },
        "outputId": "88a76d30-5129-4f63-8aa2-a16e26a4bd42",
        "id": "ovhJb1VN8i2v"
      },
      "execution_count": null,
      "outputs": [
        {
          "output_type": "stream",
          "name": "stdout",
          "text": [
            "confusion:\n",
            " [[ 4991  3295]\n",
            " [ 2113 12340]]\n",
            "              precision    recall  f1-score   support\n",
            "\n",
            "           0       0.70      0.60      0.65      8286\n",
            "           1       0.79      0.85      0.82     14453\n",
            "\n",
            "    accuracy                           0.76     22739\n",
            "   macro avg       0.75      0.73      0.73     22739\n",
            "weighted avg       0.76      0.76      0.76     22739\n",
            "\n"
          ]
        }
      ]
    },
    {
      "cell_type": "markdown",
      "source": [
        "### 상품 추천 시연\n",
        "\n",
        "\n"
      ],
      "metadata": {
        "id": "KjHzlk61xar1"
      }
    },
    {
      "cell_type": "code",
      "source": [
        "# 임의의 유저 선정\n",
        "import random\n",
        "a = random.choice(users['UserId'].values)\n",
        "print(a)"
      ],
      "metadata": {
        "outputId": "797574d3-f711-4522-bd35-335e40c1103e",
        "colab": {
          "base_uri": "https://localhost:8080/"
        },
        "id": "Cf1mEgdskufO"
      },
      "execution_count": null,
      "outputs": [
        {
          "output_type": "stream",
          "name": "stdout",
          "text": [
            "A25Z86FX7LN6G\n"
          ]
        }
      ]
    },
    {
      "cell_type": "code",
      "source": [
        "model.recommendation(a)"
      ],
      "metadata": {
        "id": "THNz5SkA8eJH",
        "outputId": "c5770b7c-82fb-4d45-927d-0c296650d861",
        "colab": {
          "base_uri": "https://localhost:8080/"
        }
      },
      "execution_count": null,
      "outputs": [
        {
          "output_type": "execute_result",
          "data": {
            "text/plain": [
              "array(['B000ISZ310', 'B000FA15GI', 'B005LQ4XK6', 'B002M5GK14',\n",
              "       'B004346KYY', 'B001UHRX1G', 'B000F4J74G', 'B003U4M4ZC',\n",
              "       'B001D6B1SU', 'B00238ZZDO'], dtype=object)"
            ]
          },
          "metadata": {},
          "execution_count": 89
        }
      ]
    },
    {
      "cell_type": "code",
      "source": [
        "df[df['UserId']== 'A25Z86FX7LN6G']"
      ],
      "metadata": {
        "colab": {
          "base_uri": "https://localhost:8080/",
          "height": 266
        },
        "id": "o7ogKAC0lj9d",
        "outputId": "aaa5249e-014f-40ba-d064-cbe9b6e37541"
      },
      "execution_count": null,
      "outputs": [
        {
          "output_type": "execute_result",
          "data": {
            "text/html": [
              "\n",
              "  <div id=\"df-4f223eba-2195-4a53-8847-b03c2a545c4e\">\n",
              "    <div class=\"colab-df-container\">\n",
              "      <div>\n",
              "<style scoped>\n",
              "    .dataframe tbody tr th:only-of-type {\n",
              "        vertical-align: middle;\n",
              "    }\n",
              "\n",
              "    .dataframe tbody tr th {\n",
              "        vertical-align: top;\n",
              "    }\n",
              "\n",
              "    .dataframe thead th {\n",
              "        text-align: right;\n",
              "    }\n",
              "</style>\n",
              "<table border=\"1\" class=\"dataframe\">\n",
              "  <thead>\n",
              "    <tr style=\"text-align: right;\">\n",
              "      <th></th>\n",
              "      <th>Id</th>\n",
              "      <th>ProductId</th>\n",
              "      <th>UserId</th>\n",
              "      <th>ProfileName</th>\n",
              "      <th>HelpfulnessNumerator</th>\n",
              "      <th>HelpfulnessDenominator</th>\n",
              "      <th>Score</th>\n",
              "      <th>Time</th>\n",
              "      <th>Summary</th>\n",
              "      <th>Text</th>\n",
              "      <th>date</th>\n",
              "      <th>dayofweek</th>\n",
              "      <th>r_counts</th>\n",
              "      <th>keyword</th>\n",
              "      <th>labels</th>\n",
              "      <th>pet</th>\n",
              "      <th>Help</th>\n",
              "      <th>label</th>\n",
              "      <th>review_len</th>\n",
              "      <th>r_counts_pro</th>\n",
              "      <th>review_len_average</th>\n",
              "    </tr>\n",
              "  </thead>\n",
              "  <tbody>\n",
              "    <tr>\n",
              "      <th>200191</th>\n",
              "      <td>200192</td>\n",
              "      <td>B003Z6ZHJK</td>\n",
              "      <td>A3CZEEXWJL032W</td>\n",
              "      <td>=shocked=</td>\n",
              "      <td>1</td>\n",
              "      <td>5</td>\n",
              "      <td>1</td>\n",
              "      <td>1319500800</td>\n",
              "      <td>tastes watered down</td>\n",
              "      <td>=Has anyone noticed that the grape juice in th...</td>\n",
              "      <td>2011-10-25</td>\n",
              "      <td>Tuesday</td>\n",
              "      <td>1</td>\n",
              "      <td>['plastic', 'noticed', 'grape', 'juice', 'cont...</td>\n",
              "      <td>NaN</td>\n",
              "      <td>dog</td>\n",
              "      <td>0.2</td>\n",
              "      <td>0</td>\n",
              "      <td>133</td>\n",
              "      <td>1</td>\n",
              "      <td>133.0</td>\n",
              "    </tr>\n",
              "  </tbody>\n",
              "</table>\n",
              "</div>\n",
              "      <button class=\"colab-df-convert\" onclick=\"convertToInteractive('df-4f223eba-2195-4a53-8847-b03c2a545c4e')\"\n",
              "              title=\"Convert this dataframe to an interactive table.\"\n",
              "              style=\"display:none;\">\n",
              "        \n",
              "  <svg xmlns=\"http://www.w3.org/2000/svg\" height=\"24px\"viewBox=\"0 0 24 24\"\n",
              "       width=\"24px\">\n",
              "    <path d=\"M0 0h24v24H0V0z\" fill=\"none\"/>\n",
              "    <path d=\"M18.56 5.44l.94 2.06.94-2.06 2.06-.94-2.06-.94-.94-2.06-.94 2.06-2.06.94zm-11 1L8.5 8.5l.94-2.06 2.06-.94-2.06-.94L8.5 2.5l-.94 2.06-2.06.94zm10 10l.94 2.06.94-2.06 2.06-.94-2.06-.94-.94-2.06-.94 2.06-2.06.94z\"/><path d=\"M17.41 7.96l-1.37-1.37c-.4-.4-.92-.59-1.43-.59-.52 0-1.04.2-1.43.59L10.3 9.45l-7.72 7.72c-.78.78-.78 2.05 0 2.83L4 21.41c.39.39.9.59 1.41.59.51 0 1.02-.2 1.41-.59l7.78-7.78 2.81-2.81c.8-.78.8-2.07 0-2.86zM5.41 20L4 18.59l7.72-7.72 1.47 1.35L5.41 20z\"/>\n",
              "  </svg>\n",
              "      </button>\n",
              "      \n",
              "  <style>\n",
              "    .colab-df-container {\n",
              "      display:flex;\n",
              "      flex-wrap:wrap;\n",
              "      gap: 12px;\n",
              "    }\n",
              "\n",
              "    .colab-df-convert {\n",
              "      background-color: #E8F0FE;\n",
              "      border: none;\n",
              "      border-radius: 50%;\n",
              "      cursor: pointer;\n",
              "      display: none;\n",
              "      fill: #1967D2;\n",
              "      height: 32px;\n",
              "      padding: 0 0 0 0;\n",
              "      width: 32px;\n",
              "    }\n",
              "\n",
              "    .colab-df-convert:hover {\n",
              "      background-color: #E2EBFA;\n",
              "      box-shadow: 0px 1px 2px rgba(60, 64, 67, 0.3), 0px 1px 3px 1px rgba(60, 64, 67, 0.15);\n",
              "      fill: #174EA6;\n",
              "    }\n",
              "\n",
              "    [theme=dark] .colab-df-convert {\n",
              "      background-color: #3B4455;\n",
              "      fill: #D2E3FC;\n",
              "    }\n",
              "\n",
              "    [theme=dark] .colab-df-convert:hover {\n",
              "      background-color: #434B5C;\n",
              "      box-shadow: 0px 1px 3px 1px rgba(0, 0, 0, 0.15);\n",
              "      filter: drop-shadow(0px 1px 2px rgba(0, 0, 0, 0.3));\n",
              "      fill: #FFFFFF;\n",
              "    }\n",
              "  </style>\n",
              "\n",
              "      <script>\n",
              "        const buttonEl =\n",
              "          document.querySelector('#df-4f223eba-2195-4a53-8847-b03c2a545c4e button.colab-df-convert');\n",
              "        buttonEl.style.display =\n",
              "          google.colab.kernel.accessAllowed ? 'block' : 'none';\n",
              "\n",
              "        async function convertToInteractive(key) {\n",
              "          const element = document.querySelector('#df-4f223eba-2195-4a53-8847-b03c2a545c4e');\n",
              "          const dataTable =\n",
              "            await google.colab.kernel.invokeFunction('convertToInteractive',\n",
              "                                                     [key], {});\n",
              "          if (!dataTable) return;\n",
              "\n",
              "          const docLinkHtml = 'Like what you see? Visit the ' +\n",
              "            '<a target=\"_blank\" href=https://colab.research.google.com/notebooks/data_table.ipynb>data table notebook</a>'\n",
              "            + ' to learn more about interactive tables.';\n",
              "          element.innerHTML = '';\n",
              "          dataTable['output_type'] = 'display_data';\n",
              "          await google.colab.output.renderOutput(dataTable, element);\n",
              "          const docLink = document.createElement('div');\n",
              "          docLink.innerHTML = docLinkHtml;\n",
              "          element.appendChild(docLink);\n",
              "        }\n",
              "      </script>\n",
              "    </div>\n",
              "  </div>\n",
              "  "
            ],
            "text/plain": [
              "            Id   ProductId  ... r_counts_pro review_len_average\n",
              "200191  200192  B003Z6ZHJK  ...            1              133.0\n",
              "\n",
              "[1 rows x 21 columns]"
            ]
          },
          "metadata": {},
          "execution_count": 63
        }
      ]
    },
    {
      "cell_type": "code",
      "source": [
        "# 해당 유저가 구매했던 제품의 순위\n",
        "items_copy[items_copy['ProductId']== 'B003Z6ZHJK']"
      ],
      "metadata": {
        "colab": {
          "base_uri": "https://localhost:8080/",
          "height": 81
        },
        "id": "vvpnJJUglvz1",
        "outputId": "58b60433-b1cc-41c3-a3be-263f613bafd7"
      },
      "execution_count": null,
      "outputs": [
        {
          "output_type": "execute_result",
          "data": {
            "text/html": [
              "\n",
              "  <div id=\"df-3305d388-f73a-40e5-a949-190606b034f3\">\n",
              "    <div class=\"colab-df-container\">\n",
              "      <div>\n",
              "<style scoped>\n",
              "    .dataframe tbody tr th:only-of-type {\n",
              "        vertical-align: middle;\n",
              "    }\n",
              "\n",
              "    .dataframe tbody tr th {\n",
              "        vertical-align: top;\n",
              "    }\n",
              "\n",
              "    .dataframe thead th {\n",
              "        text-align: right;\n",
              "    }\n",
              "</style>\n",
              "<table border=\"1\" class=\"dataframe\">\n",
              "  <thead>\n",
              "    <tr style=\"text-align: right;\">\n",
              "      <th></th>\n",
              "      <th>index</th>\n",
              "      <th>ProductId</th>\n",
              "      <th>r_counts_pro</th>\n",
              "      <th>review_len_average</th>\n",
              "      <th>UserId</th>\n",
              "      <th>r_counts</th>\n",
              "      <th>pet</th>\n",
              "      <th>prob</th>\n",
              "    </tr>\n",
              "  </thead>\n",
              "  <tbody>\n",
              "    <tr>\n",
              "      <th>35089</th>\n",
              "      <td>45417</td>\n",
              "      <td>B003Z6ZHJK</td>\n",
              "      <td>1</td>\n",
              "      <td>133</td>\n",
              "      <td>A3CZEEXWJL032W</td>\n",
              "      <td>1</td>\n",
              "      <td>dog</td>\n",
              "      <td>0.499974</td>\n",
              "    </tr>\n",
              "  </tbody>\n",
              "</table>\n",
              "</div>\n",
              "      <button class=\"colab-df-convert\" onclick=\"convertToInteractive('df-3305d388-f73a-40e5-a949-190606b034f3')\"\n",
              "              title=\"Convert this dataframe to an interactive table.\"\n",
              "              style=\"display:none;\">\n",
              "        \n",
              "  <svg xmlns=\"http://www.w3.org/2000/svg\" height=\"24px\"viewBox=\"0 0 24 24\"\n",
              "       width=\"24px\">\n",
              "    <path d=\"M0 0h24v24H0V0z\" fill=\"none\"/>\n",
              "    <path d=\"M18.56 5.44l.94 2.06.94-2.06 2.06-.94-2.06-.94-.94-2.06-.94 2.06-2.06.94zm-11 1L8.5 8.5l.94-2.06 2.06-.94-2.06-.94L8.5 2.5l-.94 2.06-2.06.94zm10 10l.94 2.06.94-2.06 2.06-.94-2.06-.94-.94-2.06-.94 2.06-2.06.94z\"/><path d=\"M17.41 7.96l-1.37-1.37c-.4-.4-.92-.59-1.43-.59-.52 0-1.04.2-1.43.59L10.3 9.45l-7.72 7.72c-.78.78-.78 2.05 0 2.83L4 21.41c.39.39.9.59 1.41.59.51 0 1.02-.2 1.41-.59l7.78-7.78 2.81-2.81c.8-.78.8-2.07 0-2.86zM5.41 20L4 18.59l7.72-7.72 1.47 1.35L5.41 20z\"/>\n",
              "  </svg>\n",
              "      </button>\n",
              "      \n",
              "  <style>\n",
              "    .colab-df-container {\n",
              "      display:flex;\n",
              "      flex-wrap:wrap;\n",
              "      gap: 12px;\n",
              "    }\n",
              "\n",
              "    .colab-df-convert {\n",
              "      background-color: #E8F0FE;\n",
              "      border: none;\n",
              "      border-radius: 50%;\n",
              "      cursor: pointer;\n",
              "      display: none;\n",
              "      fill: #1967D2;\n",
              "      height: 32px;\n",
              "      padding: 0 0 0 0;\n",
              "      width: 32px;\n",
              "    }\n",
              "\n",
              "    .colab-df-convert:hover {\n",
              "      background-color: #E2EBFA;\n",
              "      box-shadow: 0px 1px 2px rgba(60, 64, 67, 0.3), 0px 1px 3px 1px rgba(60, 64, 67, 0.15);\n",
              "      fill: #174EA6;\n",
              "    }\n",
              "\n",
              "    [theme=dark] .colab-df-convert {\n",
              "      background-color: #3B4455;\n",
              "      fill: #D2E3FC;\n",
              "    }\n",
              "\n",
              "    [theme=dark] .colab-df-convert:hover {\n",
              "      background-color: #434B5C;\n",
              "      box-shadow: 0px 1px 3px 1px rgba(0, 0, 0, 0.15);\n",
              "      filter: drop-shadow(0px 1px 2px rgba(0, 0, 0, 0.3));\n",
              "      fill: #FFFFFF;\n",
              "    }\n",
              "  </style>\n",
              "\n",
              "      <script>\n",
              "        const buttonEl =\n",
              "          document.querySelector('#df-3305d388-f73a-40e5-a949-190606b034f3 button.colab-df-convert');\n",
              "        buttonEl.style.display =\n",
              "          google.colab.kernel.accessAllowed ? 'block' : 'none';\n",
              "\n",
              "        async function convertToInteractive(key) {\n",
              "          const element = document.querySelector('#df-3305d388-f73a-40e5-a949-190606b034f3');\n",
              "          const dataTable =\n",
              "            await google.colab.kernel.invokeFunction('convertToInteractive',\n",
              "                                                     [key], {});\n",
              "          if (!dataTable) return;\n",
              "\n",
              "          const docLinkHtml = 'Like what you see? Visit the ' +\n",
              "            '<a target=\"_blank\" href=https://colab.research.google.com/notebooks/data_table.ipynb>data table notebook</a>'\n",
              "            + ' to learn more about interactive tables.';\n",
              "          element.innerHTML = '';\n",
              "          dataTable['output_type'] = 'display_data';\n",
              "          await google.colab.output.renderOutput(dataTable, element);\n",
              "          const docLink = document.createElement('div');\n",
              "          docLink.innerHTML = docLinkHtml;\n",
              "          element.appendChild(docLink);\n",
              "        }\n",
              "      </script>\n",
              "    </div>\n",
              "  </div>\n",
              "  "
            ],
            "text/plain": [
              "       index   ProductId  r_counts_pro  ...  r_counts  pet      prob\n",
              "35089  45417  B003Z6ZHJK             1  ...         1  dog  0.499974\n",
              "\n",
              "[1 rows x 8 columns]"
            ]
          },
          "metadata": {},
          "execution_count": 64
        }
      ]
    },
    {
      "cell_type": "code",
      "source": [
        "items_copy[items_copy['ProductId']== 'B000GUOA8W']"
      ],
      "metadata": {
        "colab": {
          "base_uri": "https://localhost:8080/",
          "height": 81
        },
        "id": "z5vcF28EiUtl",
        "outputId": "7b044fc1-4ae6-47db-8645-20b0d638158b"
      },
      "execution_count": null,
      "outputs": [
        {
          "output_type": "execute_result",
          "data": {
            "text/html": [
              "\n",
              "  <div id=\"df-4fa9deb3-1914-4914-be72-aee2cc399c1c\">\n",
              "    <div class=\"colab-df-container\">\n",
              "      <div>\n",
              "<style scoped>\n",
              "    .dataframe tbody tr th:only-of-type {\n",
              "        vertical-align: middle;\n",
              "    }\n",
              "\n",
              "    .dataframe tbody tr th {\n",
              "        vertical-align: top;\n",
              "    }\n",
              "\n",
              "    .dataframe thead th {\n",
              "        text-align: right;\n",
              "    }\n",
              "</style>\n",
              "<table border=\"1\" class=\"dataframe\">\n",
              "  <thead>\n",
              "    <tr style=\"text-align: right;\">\n",
              "      <th></th>\n",
              "      <th>ProductId</th>\n",
              "      <th>r_counts_pro</th>\n",
              "      <th>review_len_average</th>\n",
              "      <th>UserId</th>\n",
              "      <th>r_counts</th>\n",
              "      <th>pet</th>\n",
              "      <th>prob</th>\n",
              "    </tr>\n",
              "  </thead>\n",
              "  <tbody>\n",
              "    <tr>\n",
              "      <th>6640</th>\n",
              "      <td>B000GUOA8W</td>\n",
              "      <td>15</td>\n",
              "      <td>385</td>\n",
              "      <td>A1LPBZLHP4YP66</td>\n",
              "      <td>1</td>\n",
              "      <td>dog</td>\n",
              "      <td>0.499975</td>\n",
              "    </tr>\n",
              "  </tbody>\n",
              "</table>\n",
              "</div>\n",
              "      <button class=\"colab-df-convert\" onclick=\"convertToInteractive('df-4fa9deb3-1914-4914-be72-aee2cc399c1c')\"\n",
              "              title=\"Convert this dataframe to an interactive table.\"\n",
              "              style=\"display:none;\">\n",
              "        \n",
              "  <svg xmlns=\"http://www.w3.org/2000/svg\" height=\"24px\"viewBox=\"0 0 24 24\"\n",
              "       width=\"24px\">\n",
              "    <path d=\"M0 0h24v24H0V0z\" fill=\"none\"/>\n",
              "    <path d=\"M18.56 5.44l.94 2.06.94-2.06 2.06-.94-2.06-.94-.94-2.06-.94 2.06-2.06.94zm-11 1L8.5 8.5l.94-2.06 2.06-.94-2.06-.94L8.5 2.5l-.94 2.06-2.06.94zm10 10l.94 2.06.94-2.06 2.06-.94-2.06-.94-.94-2.06-.94 2.06-2.06.94z\"/><path d=\"M17.41 7.96l-1.37-1.37c-.4-.4-.92-.59-1.43-.59-.52 0-1.04.2-1.43.59L10.3 9.45l-7.72 7.72c-.78.78-.78 2.05 0 2.83L4 21.41c.39.39.9.59 1.41.59.51 0 1.02-.2 1.41-.59l7.78-7.78 2.81-2.81c.8-.78.8-2.07 0-2.86zM5.41 20L4 18.59l7.72-7.72 1.47 1.35L5.41 20z\"/>\n",
              "  </svg>\n",
              "      </button>\n",
              "      \n",
              "  <style>\n",
              "    .colab-df-container {\n",
              "      display:flex;\n",
              "      flex-wrap:wrap;\n",
              "      gap: 12px;\n",
              "    }\n",
              "\n",
              "    .colab-df-convert {\n",
              "      background-color: #E8F0FE;\n",
              "      border: none;\n",
              "      border-radius: 50%;\n",
              "      cursor: pointer;\n",
              "      display: none;\n",
              "      fill: #1967D2;\n",
              "      height: 32px;\n",
              "      padding: 0 0 0 0;\n",
              "      width: 32px;\n",
              "    }\n",
              "\n",
              "    .colab-df-convert:hover {\n",
              "      background-color: #E2EBFA;\n",
              "      box-shadow: 0px 1px 2px rgba(60, 64, 67, 0.3), 0px 1px 3px 1px rgba(60, 64, 67, 0.15);\n",
              "      fill: #174EA6;\n",
              "    }\n",
              "\n",
              "    [theme=dark] .colab-df-convert {\n",
              "      background-color: #3B4455;\n",
              "      fill: #D2E3FC;\n",
              "    }\n",
              "\n",
              "    [theme=dark] .colab-df-convert:hover {\n",
              "      background-color: #434B5C;\n",
              "      box-shadow: 0px 1px 3px 1px rgba(0, 0, 0, 0.15);\n",
              "      filter: drop-shadow(0px 1px 2px rgba(0, 0, 0, 0.3));\n",
              "      fill: #FFFFFF;\n",
              "    }\n",
              "  </style>\n",
              "\n",
              "      <script>\n",
              "        const buttonEl =\n",
              "          document.querySelector('#df-4fa9deb3-1914-4914-be72-aee2cc399c1c button.colab-df-convert');\n",
              "        buttonEl.style.display =\n",
              "          google.colab.kernel.accessAllowed ? 'block' : 'none';\n",
              "\n",
              "        async function convertToInteractive(key) {\n",
              "          const element = document.querySelector('#df-4fa9deb3-1914-4914-be72-aee2cc399c1c');\n",
              "          const dataTable =\n",
              "            await google.colab.kernel.invokeFunction('convertToInteractive',\n",
              "                                                     [key], {});\n",
              "          if (!dataTable) return;\n",
              "\n",
              "          const docLinkHtml = 'Like what you see? Visit the ' +\n",
              "            '<a target=\"_blank\" href=https://colab.research.google.com/notebooks/data_table.ipynb>data table notebook</a>'\n",
              "            + ' to learn more about interactive tables.';\n",
              "          element.innerHTML = '';\n",
              "          dataTable['output_type'] = 'display_data';\n",
              "          await google.colab.output.renderOutput(dataTable, element);\n",
              "          const docLink = document.createElement('div');\n",
              "          docLink.innerHTML = docLinkHtml;\n",
              "          element.appendChild(docLink);\n",
              "        }\n",
              "      </script>\n",
              "    </div>\n",
              "  </div>\n",
              "  "
            ],
            "text/plain": [
              "       ProductId  r_counts_pro  review_len_average  ... r_counts  pet      prob\n",
              "6640  B000GUOA8W            15                 385  ...        1  dog  0.499975\n",
              "\n",
              "[1 rows x 7 columns]"
            ]
          },
          "metadata": {},
          "execution_count": 60
        }
      ]
    },
    {
      "cell_type": "markdown",
      "source": [
        "### * DCN 모델 학습 및 평가 결과:\n",
        "  * val_accuracy 75% 정도의 성능을 보인다.\n",
        "  * 추천을 담당하는 라벨 1의 예측이 좀 더 잘 되는 편이며, recall이 더 높게나오므로 잘못된 상품 추천을 줄일 수 있을 것이라 판단.\n",
        "  * 라벨 0의 예측은 f1 65% 정도로 recall이 좀 낮게 나오는 편.\n",
        "\n",
        "\n"
      ],
      "metadata": {
        "id": "QxCVEXAx9XP2"
      }
    },
    {
      "cell_type": "markdown",
      "source": [
        "### * 상품 추천 결과:\n",
        "  * 고객이 구매하지 않았던 내용에 대해서도 결과값이 확인이 됨.\n",
        "  * pet feature가 일치한 경우가 많음 ex: dog일 경우 기존 데이터 셋 상에서도 dog인 경우\n",
        "\n",
        "\n"
      ],
      "metadata": {
        "id": "vywX2a5j9tz_"
      }
    },
    {
      "cell_type": "markdown",
      "source": [
        "\n",
        "### * 문제 및 개선점:\n",
        "  * 상품명이 없기 때문에 상품 추천 결과 자체의 품질을 파악하기 어려움.\n",
        "  * 학습 단계에서부터 최고 성능이 76%정도로 높지 않은 성능을 유지함.\n",
        "    * 원인 1: DCN 모델을 사용하기에 feature 수가 너무 적음.  \n",
        "      ㄴ> 좀 더 많은 유저 or 상품 특성을 추가해 학습해야 개선 가능\n",
        "    * 원인 2: label이 정보에 비해 매우 불균등한 상황 (1~4점까지 label 0)  \n",
        "      ㄴ> 다음 문제점에 대한 개선과 같이 \n",
        "  * label(0,1)의 설정이 전체 score의 평균(4.18)을 기준으로 하여 4점이어도 추천이 되지 않는 상황이 발생  \n",
        "    * 원인 : 기존 데이터가 리뷰에 초점이 맞춰져 있어 고객들의 상품에 대한 score가 매우 불균등함.\n",
        "      * 균등하게 smote하거나 under sampling 하여1\\~3에 label 0로 부여, 4~5에 label 1을 부여한다.\n",
        "\n"
      ],
      "metadata": {
        "id": "WNSqgqPE8zdI"
      }
    }
  ]
}